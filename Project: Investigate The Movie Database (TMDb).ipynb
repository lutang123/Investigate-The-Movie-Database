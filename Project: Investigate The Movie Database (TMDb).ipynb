{
 "cells": [
  {
   "cell_type": "markdown",
   "metadata": {},
   "source": [
    "# Project: Investigate The Movie Database (TMDb) \n",
    "\n",
    "--by Lu Tang\n",
    "\n",
    "## Table of Contents\n",
    "<ul>\n",
    "<li><a href=\"#intro\">Introduction</a></li>\n",
    "<li><a href=\"#wrangling\">Data Wrangling</a></li>\n",
    "<li><a href=\"#eda\">Exploratory Data Analysis</a></li>\n",
    "<li><a href=\"#conclusions\">Conclusions</a></li>\n",
    "</ul>"
   ]
  },
  {
   "cell_type": "markdown",
   "metadata": {},
   "source": [
    "<a id='intro'></a>\n",
    "## Introduction\n",
    "\n",
    "> **Dataset**: This data set contains information about 10,000 movies collected from The Movie Database (TMDb), including user ratings and revenue. Data can be download from[here](https://d17h27t6h515a5.cloudfront.net/topher/2017/October/59dd1c4c_tmdb-movies/tmdb-movies.csv).\n",
    "> The final two columns ending with “_adj” show the budget and revenue of the associated movie in terms of 2010 dollars, accounting for inflation over time.\n",
    "\n",
    "> **The project aims to explore the following questions:**\n",
    "> - Question 1: What are the trend for movie industry? Are movie industry making more money over years\n",
    "> - Question 2: Are newer movies more popular?\n",
    "> - Question 3: What kinds of properties are associated with movies that have high revenues?\n",
    "> - Question 4. Is it possible to make extremely high profit movies with low budget?\n",
    "> - Question 5: What are the top 10 rated movies? and how is their profitibility?"
   ]
  },
  {
   "cell_type": "code",
   "execution_count": 1,
   "metadata": {},
   "outputs": [],
   "source": [
    "# import library that will be used in this project \n",
    "import pandas as pd\n",
    "import matplotlib.pyplot as plt\n",
    "import seaborn as sns\n",
    "%matplotlib inline"
   ]
  },
  {
   "cell_type": "markdown",
   "metadata": {},
   "source": [
    "<a id='wrangling'></a>\n",
    "## Data Wrangling\n",
    "\n",
    "### General Properties"
   ]
  },
  {
   "cell_type": "code",
   "execution_count": 2,
   "metadata": {},
   "outputs": [
    {
     "name": "stdout",
     "output_type": "stream",
     "text": [
      "(10866, 21)\n"
     ]
    },
    {
     "data": {
      "text/html": [
       "<div>\n",
       "<style scoped>\n",
       "    .dataframe tbody tr th:only-of-type {\n",
       "        vertical-align: middle;\n",
       "    }\n",
       "\n",
       "    .dataframe tbody tr th {\n",
       "        vertical-align: top;\n",
       "    }\n",
       "\n",
       "    .dataframe thead th {\n",
       "        text-align: right;\n",
       "    }\n",
       "</style>\n",
       "<table border=\"1\" class=\"dataframe\">\n",
       "  <thead>\n",
       "    <tr style=\"text-align: right;\">\n",
       "      <th></th>\n",
       "      <th>id</th>\n",
       "      <th>imdb_id</th>\n",
       "      <th>popularity</th>\n",
       "      <th>budget</th>\n",
       "      <th>revenue</th>\n",
       "      <th>original_title</th>\n",
       "      <th>cast</th>\n",
       "      <th>homepage</th>\n",
       "      <th>director</th>\n",
       "      <th>tagline</th>\n",
       "      <th>keywords</th>\n",
       "      <th>overview</th>\n",
       "      <th>runtime</th>\n",
       "      <th>genres</th>\n",
       "      <th>production_companies</th>\n",
       "      <th>release_date</th>\n",
       "      <th>vote_count</th>\n",
       "      <th>vote_average</th>\n",
       "      <th>release_year</th>\n",
       "      <th>budget_adj</th>\n",
       "      <th>revenue_adj</th>\n",
       "    </tr>\n",
       "  </thead>\n",
       "  <tbody>\n",
       "    <tr>\n",
       "      <th>0</th>\n",
       "      <td>135397</td>\n",
       "      <td>tt0369610</td>\n",
       "      <td>32.985763</td>\n",
       "      <td>150000000</td>\n",
       "      <td>1513528810</td>\n",
       "      <td>Jurassic World</td>\n",
       "      <td>Chris Pratt|Bryce Dallas Howard|Irrfan Khan|Vi...</td>\n",
       "      <td>http://www.jurassicworld.com/</td>\n",
       "      <td>Colin Trevorrow</td>\n",
       "      <td>The park is open.</td>\n",
       "      <td>monster|dna|tyrannosaurus rex|velociraptor|island</td>\n",
       "      <td>Twenty-two years after the events of Jurassic ...</td>\n",
       "      <td>124</td>\n",
       "      <td>Action|Adventure|Science Fiction|Thriller</td>\n",
       "      <td>Universal Studios|Amblin Entertainment|Legenda...</td>\n",
       "      <td>6/9/15</td>\n",
       "      <td>5562</td>\n",
       "      <td>6.5</td>\n",
       "      <td>2015</td>\n",
       "      <td>1.379999e+08</td>\n",
       "      <td>1.392446e+09</td>\n",
       "    </tr>\n",
       "    <tr>\n",
       "      <th>1</th>\n",
       "      <td>76341</td>\n",
       "      <td>tt1392190</td>\n",
       "      <td>28.419936</td>\n",
       "      <td>150000000</td>\n",
       "      <td>378436354</td>\n",
       "      <td>Mad Max: Fury Road</td>\n",
       "      <td>Tom Hardy|Charlize Theron|Hugh Keays-Byrne|Nic...</td>\n",
       "      <td>http://www.madmaxmovie.com/</td>\n",
       "      <td>George Miller</td>\n",
       "      <td>What a Lovely Day.</td>\n",
       "      <td>future|chase|post-apocalyptic|dystopia|australia</td>\n",
       "      <td>An apocalyptic story set in the furthest reach...</td>\n",
       "      <td>120</td>\n",
       "      <td>Action|Adventure|Science Fiction|Thriller</td>\n",
       "      <td>Village Roadshow Pictures|Kennedy Miller Produ...</td>\n",
       "      <td>5/13/15</td>\n",
       "      <td>6185</td>\n",
       "      <td>7.1</td>\n",
       "      <td>2015</td>\n",
       "      <td>1.379999e+08</td>\n",
       "      <td>3.481613e+08</td>\n",
       "    </tr>\n",
       "  </tbody>\n",
       "</table>\n",
       "</div>"
      ],
      "text/plain": [
       "       id    imdb_id  popularity     budget     revenue      original_title  \\\n",
       "0  135397  tt0369610   32.985763  150000000  1513528810      Jurassic World   \n",
       "1   76341  tt1392190   28.419936  150000000   378436354  Mad Max: Fury Road   \n",
       "\n",
       "                                                cast  \\\n",
       "0  Chris Pratt|Bryce Dallas Howard|Irrfan Khan|Vi...   \n",
       "1  Tom Hardy|Charlize Theron|Hugh Keays-Byrne|Nic...   \n",
       "\n",
       "                        homepage         director             tagline  \\\n",
       "0  http://www.jurassicworld.com/  Colin Trevorrow   The park is open.   \n",
       "1    http://www.madmaxmovie.com/    George Miller  What a Lovely Day.   \n",
       "\n",
       "                                            keywords  \\\n",
       "0  monster|dna|tyrannosaurus rex|velociraptor|island   \n",
       "1   future|chase|post-apocalyptic|dystopia|australia   \n",
       "\n",
       "                                            overview  runtime  \\\n",
       "0  Twenty-two years after the events of Jurassic ...      124   \n",
       "1  An apocalyptic story set in the furthest reach...      120   \n",
       "\n",
       "                                      genres  \\\n",
       "0  Action|Adventure|Science Fiction|Thriller   \n",
       "1  Action|Adventure|Science Fiction|Thriller   \n",
       "\n",
       "                                production_companies release_date  vote_count  \\\n",
       "0  Universal Studios|Amblin Entertainment|Legenda...       6/9/15        5562   \n",
       "1  Village Roadshow Pictures|Kennedy Miller Produ...      5/13/15        6185   \n",
       "\n",
       "   vote_average  release_year    budget_adj   revenue_adj  \n",
       "0           6.5          2015  1.379999e+08  1.392446e+09  \n",
       "1           7.1          2015  1.379999e+08  3.481613e+08  "
      ]
     },
     "execution_count": 2,
     "metadata": {},
     "output_type": "execute_result"
    }
   ],
   "source": [
    "# loading data\n",
    "tmdb=pd.read_csv('tmdb-movies.csv')\n",
    "# show number of rows and columns\n",
    "print(tmdb.shape)\n",
    "\n",
    "# show first 2 rowss\n",
    "pd.options.display.max_columns = 150 # to avoid truncated output \n",
    "tmdb.head(2)"
   ]
  },
  {
   "cell_type": "markdown",
   "metadata": {},
   "source": [
    "> **Initial observation**: \n",
    ">- Our focus will be analyzing movie properties associated with high revenue, some columns are irrelavant for our analysis,e.g `id`,`imdb_id`, `homepage`, `tagline`, `keywords, overview, production_companies, release_date` (since we already have release_year).\n",
    ">- we can also remove `budget` and `revenue`, since we have `budget_adj` and `revenue_adj` to analyze."
   ]
  },
  {
   "cell_type": "code",
   "execution_count": 3,
   "metadata": {},
   "outputs": [
    {
     "data": {
      "text/html": [
       "<div>\n",
       "<style scoped>\n",
       "    .dataframe tbody tr th:only-of-type {\n",
       "        vertical-align: middle;\n",
       "    }\n",
       "\n",
       "    .dataframe tbody tr th {\n",
       "        vertical-align: top;\n",
       "    }\n",
       "\n",
       "    .dataframe thead th {\n",
       "        text-align: right;\n",
       "    }\n",
       "</style>\n",
       "<table border=\"1\" class=\"dataframe\">\n",
       "  <thead>\n",
       "    <tr style=\"text-align: right;\">\n",
       "      <th></th>\n",
       "      <th>popularity</th>\n",
       "      <th>original_title</th>\n",
       "      <th>cast</th>\n",
       "      <th>director</th>\n",
       "      <th>runtime</th>\n",
       "      <th>genres</th>\n",
       "      <th>vote_count</th>\n",
       "      <th>vote_average</th>\n",
       "      <th>release_year</th>\n",
       "      <th>budget_adj</th>\n",
       "      <th>revenue_adj</th>\n",
       "    </tr>\n",
       "  </thead>\n",
       "  <tbody>\n",
       "    <tr>\n",
       "      <th>0</th>\n",
       "      <td>32.985763</td>\n",
       "      <td>Jurassic World</td>\n",
       "      <td>Chris Pratt|Bryce Dallas Howard|Irrfan Khan|Vi...</td>\n",
       "      <td>Colin Trevorrow</td>\n",
       "      <td>124</td>\n",
       "      <td>Action|Adventure|Science Fiction|Thriller</td>\n",
       "      <td>5562</td>\n",
       "      <td>6.5</td>\n",
       "      <td>2015</td>\n",
       "      <td>1.379999e+08</td>\n",
       "      <td>1.392446e+09</td>\n",
       "    </tr>\n",
       "  </tbody>\n",
       "</table>\n",
       "</div>"
      ],
      "text/plain": [
       "   popularity  original_title  \\\n",
       "0   32.985763  Jurassic World   \n",
       "\n",
       "                                                cast         director  \\\n",
       "0  Chris Pratt|Bryce Dallas Howard|Irrfan Khan|Vi...  Colin Trevorrow   \n",
       "\n",
       "   runtime                                     genres  vote_count  \\\n",
       "0      124  Action|Adventure|Science Fiction|Thriller        5562   \n",
       "\n",
       "   vote_average  release_year    budget_adj   revenue_adj  \n",
       "0           6.5          2015  1.379999e+08  1.392446e+09  "
      ]
     },
     "execution_count": 3,
     "metadata": {},
     "output_type": "execute_result"
    }
   ],
   "source": [
    "# Drop extraneous columns  \n",
    "drop_col=['id','imdb_id','homepage','tagline','keywords','overview','production_companies','release_date','budget','revenue']\n",
    "tmdb = tmdb.drop(drop_col, axis=1)\n",
    "# check the result\n",
    "tmdb.head(1)"
   ]
  },
  {
   "cell_type": "code",
   "execution_count": 4,
   "metadata": {},
   "outputs": [
    {
     "name": "stdout",
     "output_type": "stream",
     "text": [
      "<class 'pandas.core.frame.DataFrame'>\n",
      "RangeIndex: 10866 entries, 0 to 10865\n",
      "Data columns (total 11 columns):\n",
      "popularity        10866 non-null float64\n",
      "original_title    10866 non-null object\n",
      "cast              10790 non-null object\n",
      "director          10822 non-null object\n",
      "runtime           10866 non-null int64\n",
      "genres            10843 non-null object\n",
      "vote_count        10866 non-null int64\n",
      "vote_average      10866 non-null float64\n",
      "release_year      10866 non-null int64\n",
      "budget_adj        10866 non-null float64\n",
      "revenue_adj       10866 non-null float64\n",
      "dtypes: float64(4), int64(3), object(4)\n",
      "memory usage: 933.9+ KB\n"
     ]
    }
   ],
   "source": [
    "# check data type and missing values\n",
    "tmdb.info()"
   ]
  },
  {
   "cell_type": "code",
   "execution_count": 5,
   "metadata": {},
   "outputs": [
    {
     "data": {
      "text/html": [
       "<div>\n",
       "<style scoped>\n",
       "    .dataframe tbody tr th:only-of-type {\n",
       "        vertical-align: middle;\n",
       "    }\n",
       "\n",
       "    .dataframe tbody tr th {\n",
       "        vertical-align: top;\n",
       "    }\n",
       "\n",
       "    .dataframe thead th {\n",
       "        text-align: right;\n",
       "    }\n",
       "</style>\n",
       "<table border=\"1\" class=\"dataframe\">\n",
       "  <thead>\n",
       "    <tr style=\"text-align: right;\">\n",
       "      <th></th>\n",
       "      <th>popularity</th>\n",
       "      <th>original_title</th>\n",
       "      <th>cast</th>\n",
       "      <th>director</th>\n",
       "      <th>runtime</th>\n",
       "      <th>genres</th>\n",
       "      <th>vote_count</th>\n",
       "      <th>vote_average</th>\n",
       "      <th>release_year</th>\n",
       "      <th>budget_adj</th>\n",
       "      <th>revenue_adj</th>\n",
       "    </tr>\n",
       "  </thead>\n",
       "  <tbody>\n",
       "    <tr>\n",
       "      <th>count</th>\n",
       "      <td>10866.000000</td>\n",
       "      <td>10866</td>\n",
       "      <td>10790</td>\n",
       "      <td>10822</td>\n",
       "      <td>10866.000000</td>\n",
       "      <td>10843</td>\n",
       "      <td>10866.000000</td>\n",
       "      <td>10866.000000</td>\n",
       "      <td>10866.000000</td>\n",
       "      <td>1.086600e+04</td>\n",
       "      <td>1.086600e+04</td>\n",
       "    </tr>\n",
       "    <tr>\n",
       "      <th>unique</th>\n",
       "      <td>NaN</td>\n",
       "      <td>10571</td>\n",
       "      <td>10719</td>\n",
       "      <td>5067</td>\n",
       "      <td>NaN</td>\n",
       "      <td>2039</td>\n",
       "      <td>NaN</td>\n",
       "      <td>NaN</td>\n",
       "      <td>NaN</td>\n",
       "      <td>NaN</td>\n",
       "      <td>NaN</td>\n",
       "    </tr>\n",
       "    <tr>\n",
       "      <th>top</th>\n",
       "      <td>NaN</td>\n",
       "      <td>Hamlet</td>\n",
       "      <td>Louis C.K.</td>\n",
       "      <td>Woody Allen</td>\n",
       "      <td>NaN</td>\n",
       "      <td>Drama</td>\n",
       "      <td>NaN</td>\n",
       "      <td>NaN</td>\n",
       "      <td>NaN</td>\n",
       "      <td>NaN</td>\n",
       "      <td>NaN</td>\n",
       "    </tr>\n",
       "    <tr>\n",
       "      <th>freq</th>\n",
       "      <td>NaN</td>\n",
       "      <td>4</td>\n",
       "      <td>6</td>\n",
       "      <td>45</td>\n",
       "      <td>NaN</td>\n",
       "      <td>712</td>\n",
       "      <td>NaN</td>\n",
       "      <td>NaN</td>\n",
       "      <td>NaN</td>\n",
       "      <td>NaN</td>\n",
       "      <td>NaN</td>\n",
       "    </tr>\n",
       "    <tr>\n",
       "      <th>mean</th>\n",
       "      <td>0.646441</td>\n",
       "      <td>NaN</td>\n",
       "      <td>NaN</td>\n",
       "      <td>NaN</td>\n",
       "      <td>102.070863</td>\n",
       "      <td>NaN</td>\n",
       "      <td>217.389748</td>\n",
       "      <td>5.974922</td>\n",
       "      <td>2001.322658</td>\n",
       "      <td>1.755104e+07</td>\n",
       "      <td>5.136436e+07</td>\n",
       "    </tr>\n",
       "    <tr>\n",
       "      <th>std</th>\n",
       "      <td>1.000185</td>\n",
       "      <td>NaN</td>\n",
       "      <td>NaN</td>\n",
       "      <td>NaN</td>\n",
       "      <td>31.381405</td>\n",
       "      <td>NaN</td>\n",
       "      <td>575.619058</td>\n",
       "      <td>0.935142</td>\n",
       "      <td>12.812941</td>\n",
       "      <td>3.430616e+07</td>\n",
       "      <td>1.446325e+08</td>\n",
       "    </tr>\n",
       "    <tr>\n",
       "      <th>min</th>\n",
       "      <td>0.000065</td>\n",
       "      <td>NaN</td>\n",
       "      <td>NaN</td>\n",
       "      <td>NaN</td>\n",
       "      <td>0.000000</td>\n",
       "      <td>NaN</td>\n",
       "      <td>10.000000</td>\n",
       "      <td>1.500000</td>\n",
       "      <td>1960.000000</td>\n",
       "      <td>0.000000e+00</td>\n",
       "      <td>0.000000e+00</td>\n",
       "    </tr>\n",
       "    <tr>\n",
       "      <th>25%</th>\n",
       "      <td>0.207583</td>\n",
       "      <td>NaN</td>\n",
       "      <td>NaN</td>\n",
       "      <td>NaN</td>\n",
       "      <td>90.000000</td>\n",
       "      <td>NaN</td>\n",
       "      <td>17.000000</td>\n",
       "      <td>5.400000</td>\n",
       "      <td>1995.000000</td>\n",
       "      <td>0.000000e+00</td>\n",
       "      <td>0.000000e+00</td>\n",
       "    </tr>\n",
       "    <tr>\n",
       "      <th>50%</th>\n",
       "      <td>0.383856</td>\n",
       "      <td>NaN</td>\n",
       "      <td>NaN</td>\n",
       "      <td>NaN</td>\n",
       "      <td>99.000000</td>\n",
       "      <td>NaN</td>\n",
       "      <td>38.000000</td>\n",
       "      <td>6.000000</td>\n",
       "      <td>2006.000000</td>\n",
       "      <td>0.000000e+00</td>\n",
       "      <td>0.000000e+00</td>\n",
       "    </tr>\n",
       "    <tr>\n",
       "      <th>75%</th>\n",
       "      <td>0.713817</td>\n",
       "      <td>NaN</td>\n",
       "      <td>NaN</td>\n",
       "      <td>NaN</td>\n",
       "      <td>111.000000</td>\n",
       "      <td>NaN</td>\n",
       "      <td>145.750000</td>\n",
       "      <td>6.600000</td>\n",
       "      <td>2011.000000</td>\n",
       "      <td>2.085325e+07</td>\n",
       "      <td>3.369710e+07</td>\n",
       "    </tr>\n",
       "    <tr>\n",
       "      <th>max</th>\n",
       "      <td>32.985763</td>\n",
       "      <td>NaN</td>\n",
       "      <td>NaN</td>\n",
       "      <td>NaN</td>\n",
       "      <td>900.000000</td>\n",
       "      <td>NaN</td>\n",
       "      <td>9767.000000</td>\n",
       "      <td>9.200000</td>\n",
       "      <td>2015.000000</td>\n",
       "      <td>4.250000e+08</td>\n",
       "      <td>2.827124e+09</td>\n",
       "    </tr>\n",
       "  </tbody>\n",
       "</table>\n",
       "</div>"
      ],
      "text/plain": [
       "          popularity original_title        cast     director       runtime  \\\n",
       "count   10866.000000          10866       10790        10822  10866.000000   \n",
       "unique           NaN          10571       10719         5067           NaN   \n",
       "top              NaN         Hamlet  Louis C.K.  Woody Allen           NaN   \n",
       "freq             NaN              4           6           45           NaN   \n",
       "mean        0.646441            NaN         NaN          NaN    102.070863   \n",
       "std         1.000185            NaN         NaN          NaN     31.381405   \n",
       "min         0.000065            NaN         NaN          NaN      0.000000   \n",
       "25%         0.207583            NaN         NaN          NaN     90.000000   \n",
       "50%         0.383856            NaN         NaN          NaN     99.000000   \n",
       "75%         0.713817            NaN         NaN          NaN    111.000000   \n",
       "max        32.985763            NaN         NaN          NaN    900.000000   \n",
       "\n",
       "       genres    vote_count  vote_average  release_year    budget_adj  \\\n",
       "count   10843  10866.000000  10866.000000  10866.000000  1.086600e+04   \n",
       "unique   2039           NaN           NaN           NaN           NaN   \n",
       "top     Drama           NaN           NaN           NaN           NaN   \n",
       "freq      712           NaN           NaN           NaN           NaN   \n",
       "mean      NaN    217.389748      5.974922   2001.322658  1.755104e+07   \n",
       "std       NaN    575.619058      0.935142     12.812941  3.430616e+07   \n",
       "min       NaN     10.000000      1.500000   1960.000000  0.000000e+00   \n",
       "25%       NaN     17.000000      5.400000   1995.000000  0.000000e+00   \n",
       "50%       NaN     38.000000      6.000000   2006.000000  0.000000e+00   \n",
       "75%       NaN    145.750000      6.600000   2011.000000  2.085325e+07   \n",
       "max       NaN   9767.000000      9.200000   2015.000000  4.250000e+08   \n",
       "\n",
       "         revenue_adj  \n",
       "count   1.086600e+04  \n",
       "unique           NaN  \n",
       "top              NaN  \n",
       "freq             NaN  \n",
       "mean    5.136436e+07  \n",
       "std     1.446325e+08  \n",
       "min     0.000000e+00  \n",
       "25%     0.000000e+00  \n",
       "50%     0.000000e+00  \n",
       "75%     3.369710e+07  \n",
       "max     2.827124e+09  "
      ]
     },
     "execution_count": 5,
     "metadata": {},
     "output_type": "execute_result"
    }
   ],
   "source": [
    "# check statistical information \n",
    "tmdb.describe(include='all')"
   ]
  },
  {
   "cell_type": "markdown",
   "metadata": {
    "collapsed": true
   },
   "source": [
    "> **Insights**:\n",
    ">- Some columns contain NaN values, but the amount is not significant; we don't need to drop all the nulls at the beginning.\n",
    ">- Data type are all correct.\n",
    ">- The minimum `runtime` is 0, which is impossible, and some movies have extremely long runtime, we will investigate the outlier data\n",
    ">- `budget_adj` and `revenue_adj` have minimum and median value as 0 too, which is odd, and the difference from 75% to maximum is huge, we need to investigate in the later anaysis process\n",
    ">-  `popularity ` , `vote_count` has very uneven distribution, with some extreme high value data.  "
   ]
  },
  {
   "cell_type": "markdown",
   "metadata": {},
   "source": [
    "### Data Cleaning "
   ]
  },
  {
   "cell_type": "markdown",
   "metadata": {},
   "source": [
    "This dataseat is generally clean, column names are also clear and with preferred snakecase. For some string columns that contains '|', we will clean and analyze in the later part specific to the question we want to answer."
   ]
  },
  {
   "cell_type": "markdown",
   "metadata": {},
   "source": [
    "**1. Remove duplicated data**"
   ]
  },
  {
   "cell_type": "code",
   "execution_count": 6,
   "metadata": {},
   "outputs": [
    {
     "data": {
      "text/plain": [
       "1"
      ]
     },
     "execution_count": 6,
     "metadata": {},
     "output_type": "execute_result"
    }
   ],
   "source": [
    "# check how many rows are duplicated\n",
    "sum(tmdb.duplicated())"
   ]
  },
  {
   "cell_type": "code",
   "execution_count": 7,
   "metadata": {},
   "outputs": [
    {
     "data": {
      "text/plain": [
       "0"
      ]
     },
     "execution_count": 7,
     "metadata": {},
     "output_type": "execute_result"
    }
   ],
   "source": [
    "# Drop duplicated rows\n",
    "tmdb.drop_duplicates(inplace=True)\n",
    "\n",
    "# douch check the results\n",
    "sum(tmdb.duplicated())"
   ]
  },
  {
   "cell_type": "markdown",
   "metadata": {},
   "source": [
    "**2. Cleaning abnormal data for runtime**"
   ]
  },
  {
   "cell_type": "code",
   "execution_count": 8,
   "metadata": {},
   "outputs": [
    {
     "data": {
      "text/plain": [
       "31"
      ]
     },
     "execution_count": 8,
     "metadata": {},
     "output_type": "execute_result"
    }
   ],
   "source": [
    "# Find out how many rows are 0 for runtime\n",
    "sum(tmdb[\"runtime\"]==0)"
   ]
  },
  {
   "cell_type": "code",
   "execution_count": 9,
   "metadata": {},
   "outputs": [
    {
     "data": {
      "text/plain": [
       "0"
      ]
     },
     "execution_count": 9,
     "metadata": {},
     "output_type": "execute_result"
    }
   ],
   "source": [
    "# Since it is impossible to have runtime as 0, we will remove these.\n",
    "tmdb=tmdb[tmdb[\"runtime\"]>0]\n",
    "\n",
    "#double check the result\n",
    "sum(tmdb[\"runtime\"]==0)"
   ]
  },
  {
   "cell_type": "markdown",
   "metadata": {},
   "source": [
    "**3. Cleaning abnormal data for budget**"
   ]
  },
  {
   "cell_type": "code",
   "execution_count": 10,
   "metadata": {},
   "outputs": [
    {
     "data": {
      "text/plain": [
       "5668"
      ]
     },
     "execution_count": 10,
     "metadata": {},
     "output_type": "execute_result"
    }
   ],
   "source": [
    "sum(tmdb[\"budget_adj\"]==0)"
   ]
  },
  {
   "cell_type": "code",
   "execution_count": 11,
   "metadata": {},
   "outputs": [
    {
     "data": {
      "text/plain": [
       "0"
      ]
     },
     "execution_count": 11,
     "metadata": {},
     "output_type": "execute_result"
    }
   ],
   "source": [
    "# It is impossible to make a movie without any budget, we will remove these data\n",
    "tmdb=tmdb[tmdb[\"budget_adj\"]>0]\n",
    "\n",
    "# Double check the result\n",
    "sum(tmdb[\"budget_adj\"]==0)"
   ]
  },
  {
   "cell_type": "markdown",
   "metadata": {},
   "source": [
    "**4. Cleaning abnormal data for revenue**"
   ]
  },
  {
   "cell_type": "code",
   "execution_count": 12,
   "metadata": {},
   "outputs": [
    {
     "data": {
      "text/plain": [
       "1312"
      ]
     },
     "execution_count": 12,
     "metadata": {},
     "output_type": "execute_result"
    }
   ],
   "source": [
    "sum(tmdb[\"revenue_adj\"]==0)"
   ]
  },
  {
   "cell_type": "markdown",
   "metadata": {},
   "source": [
    ">- It is not impossible for a movie to have 0 revenue, we will leave these data"
   ]
  },
  {
   "cell_type": "code",
   "execution_count": 13,
   "metadata": {},
   "outputs": [
    {
     "name": "stdout",
     "output_type": "stream",
     "text": [
      "(5166, 11)\n"
     ]
    },
    {
     "data": {
      "text/html": [
       "<div>\n",
       "<style scoped>\n",
       "    .dataframe tbody tr th:only-of-type {\n",
       "        vertical-align: middle;\n",
       "    }\n",
       "\n",
       "    .dataframe tbody tr th {\n",
       "        vertical-align: top;\n",
       "    }\n",
       "\n",
       "    .dataframe thead th {\n",
       "        text-align: right;\n",
       "    }\n",
       "</style>\n",
       "<table border=\"1\" class=\"dataframe\">\n",
       "  <thead>\n",
       "    <tr style=\"text-align: right;\">\n",
       "      <th></th>\n",
       "      <th>popularity</th>\n",
       "      <th>original_title</th>\n",
       "      <th>cast</th>\n",
       "      <th>director</th>\n",
       "      <th>runtime</th>\n",
       "      <th>genres</th>\n",
       "      <th>vote_count</th>\n",
       "      <th>vote_average</th>\n",
       "      <th>release_year</th>\n",
       "      <th>budget_adj</th>\n",
       "      <th>revenue_adj</th>\n",
       "    </tr>\n",
       "  </thead>\n",
       "  <tbody>\n",
       "    <tr>\n",
       "      <th>0</th>\n",
       "      <td>32.985763</td>\n",
       "      <td>Jurassic World</td>\n",
       "      <td>Chris Pratt|Bryce Dallas Howard|Irrfan Khan|Vi...</td>\n",
       "      <td>Colin Trevorrow</td>\n",
       "      <td>124</td>\n",
       "      <td>Action|Adventure|Science Fiction|Thriller</td>\n",
       "      <td>5562</td>\n",
       "      <td>6.5</td>\n",
       "      <td>2015</td>\n",
       "      <td>1.379999e+08</td>\n",
       "      <td>1.392446e+09</td>\n",
       "    </tr>\n",
       "  </tbody>\n",
       "</table>\n",
       "</div>"
      ],
      "text/plain": [
       "   popularity  original_title  \\\n",
       "0   32.985763  Jurassic World   \n",
       "\n",
       "                                                cast         director  \\\n",
       "0  Chris Pratt|Bryce Dallas Howard|Irrfan Khan|Vi...  Colin Trevorrow   \n",
       "\n",
       "   runtime                                     genres  vote_count  \\\n",
       "0      124  Action|Adventure|Science Fiction|Thriller        5562   \n",
       "\n",
       "   vote_average  release_year    budget_adj   revenue_adj  \n",
       "0           6.5          2015  1.379999e+08  1.392446e+09  "
      ]
     },
     "execution_count": 13,
     "metadata": {},
     "output_type": "execute_result"
    }
   ],
   "source": [
    "# Double check the cleaning result\n",
    "print(tmdb.shape)\n",
    "tmdb.head(1)"
   ]
  },
  {
   "cell_type": "markdown",
   "metadata": {},
   "source": [
    "<a id='eda'></a>\n",
    "## Exploratory Data Analysis"
   ]
  },
  {
   "cell_type": "markdown",
   "metadata": {},
   "source": [
    "## 1. Find pattern and visualize relationship"
   ]
  },
  {
   "cell_type": "markdown",
   "metadata": {},
   "source": [
    "**1_1. Explore relations with `revenue_adj`**"
   ]
  },
  {
   "cell_type": "code",
   "execution_count": 14,
   "metadata": {},
   "outputs": [
    {
     "data": {
      "text/plain": [
       "Text(0.5, 1.0, 'Correlation heatmap for whole movie data')"
      ]
     },
     "execution_count": 14,
     "metadata": {},
     "output_type": "execute_result"
    },
    {
     "data": {
      "image/png": "[encoded data removed]",
      "text/plain": [
       "<Figure size 576x360 with 2 Axes>"
      ]
     },
     "metadata": {
      "needs_background": "light"
     },
     "output_type": "display_data"
    }
   ],
   "source": [
    "# plot a heatmap to see correlation with `revenue_adj` fro each columns\n",
    "plt.figure(figsize=(8,5))\n",
    "sns.heatmap(tmdb.corr(),annot=True,cmap='coolwarm')\n",
    "plt.xticks(rotation=45)\n",
    "plt.title('Correlation heatmap for whole movie data')"
   ]
  },
  {
   "cell_type": "markdown",
   "metadata": {},
   "source": [
    "**Conclusion:**\n",
    ">-  `revenue_adj` is positive-correlated with `popularity`, `vote_count` and `budget_adj`, which makes sense, the more popular, the more vote_count and and more revenues. And high budget movies are expected with high revenue too.\n",
    ">- `popularity` and `vote_count` are strongly correlated eith each other.\n",
    ">- `runtime`, `vote_average` and `release_year` do not have strong relation with any other columns. In fact `release_year` is slighly negative-correlated with `revenue_adj`. "
   ]
  },
  {
   "cell_type": "markdown",
   "metadata": {},
   "source": [
    "**1_2. Plotting charts to find out the distribution for the variables that do not have strong correlation with Movie Revenue, i.e. `runtime, vote_average, release_year`.**"
   ]
  },
  {
   "cell_type": "code",
   "execution_count": 15,
   "metadata": {},
   "outputs": [
    {
     "data": {
      "image/png": "[encoded data removed]",
      "text/plain": [
       "<Figure size 432x288 with 1 Axes>"
      ]
     },
     "metadata": {
      "needs_background": "light"
     },
     "output_type": "display_data"
    },
    {
     "data": {
      "image/png": "[encoded data removed]",
      "text/plain": [
       "<Figure size 432x288 with 1 Axes>"
      ]
     },
     "metadata": {
      "needs_background": "light"
     },
     "output_type": "display_data"
    },
    {
     "data": {
      "image/png": "[encoded data removed]",
      "text/plain": [
       "<Figure size 432x288 with 1 Axes>"
      ]
     },
     "metadata": {
      "needs_background": "light"
     },
     "output_type": "display_data"
    }
   ],
   "source": [
    "# plotting distribution for 'runtime'\n",
    "tmdb['runtime'].plot.hist(title='Runtime distribution for the whole movies data')\n",
    "plt.xlabel('Movie Runtime')\n",
    "plt.show()\n",
    "\n",
    "# plotting distribution for 'vote_average'\n",
    "tmdb['vote_average'].plot.hist(title='Vote_average distribution for the whole movies data')\n",
    "plt.xlabel('Movie Vote_average')\n",
    "plt.show()\n",
    "\n",
    "# plotting distribution for 'vote_average'\n",
    "tmdb['release_year'].plot.hist(title=('Movie Release_year Distribution'))\n",
    "plt.show()"
   ]
  },
  {
   "cell_type": "markdown",
   "metadata": {},
   "source": [
    "**Conclusion:**\n",
    ">- Most movies have median length from about 100 minutes to 180 minutes.\n",
    ">- 'vote_average' has normal distribution, with average around 6.\n",
    ">- There are more movies produced over time."
   ]
  },
  {
   "cell_type": "markdown",
   "metadata": {},
   "source": [
    "**1_3. Plotting scatter chart to explore detailed relationship between `popularity` and `vote_count`, and find out outliers.** "
   ]
  },
  {
   "cell_type": "code",
   "execution_count": 16,
   "metadata": {},
   "outputs": [
    {
     "data": {
      "text/plain": [
       "<matplotlib.axes._subplots.AxesSubplot at 0x1a20757208>"
      ]
     },
     "execution_count": 16,
     "metadata": {},
     "output_type": "execute_result"
    },
    {
     "data": {
      "image/png": "[encoded data removed]",
      "text/plain": [
       "<Figure size 432x288 with 1 Axes>"
      ]
     },
     "metadata": {
      "needs_background": "light"
     },
     "output_type": "display_data"
    }
   ],
   "source": [
    "# plotting relation for 'popularity' and 'vote_count'\n",
    "tmdb.plot.scatter(x='popularity',y='vote_count')"
   ]
  },
  {
   "cell_type": "markdown",
   "metadata": {},
   "source": [
    "**Conclusion:**\n",
    ">- From the scatter chart, we can confirm `popularity` and `vote_count` have strong positive correlation, same result as from the heatmap; however, we can also notice there are three movies rated extremely high popularity, but vote count is not extremely high.\n",
    ">- If we run regression model to decide movie revenues, we have to choose of one of them as an independent variable, but this is beyond the goal of this project."
   ]
  },
  {
   "cell_type": "markdown",
   "metadata": {},
   "source": [
    "**1_4. Plotting scatter charts to furthur explore the relation with `revenue_adj` for the varibles of `popularity`, `vote_count` and `budget_adj`.**"
   ]
  },
  {
   "cell_type": "code",
   "execution_count": 17,
   "metadata": {},
   "outputs": [
    {
     "data": {
      "text/plain": [
       "<matplotlib.axes._subplots.AxesSubplot at 0x1a20c98f98>"
      ]
     },
     "execution_count": 17,
     "metadata": {},
     "output_type": "execute_result"
    },
    {
     "data": {
      "image/png": "[encoded data removed]",
      "text/plain": [
       "<Figure size 432x288 with 1 Axes>"
      ]
     },
     "metadata": {
      "needs_background": "light"
     },
     "output_type": "display_data"
    },
    {
     "data": {
      "image/png": "[encoded data removed]",
      "text/plain": [
       "<Figure size 432x288 with 1 Axes>"
      ]
     },
     "metadata": {
      "needs_background": "light"
     },
     "output_type": "display_data"
    },
    {
     "data": {
      "image/png": "[encoded data removed]",
      "text/plain": [
       "<Figure size 432x288 with 1 Axes>"
      ]
     },
     "metadata": {
      "needs_background": "light"
     },
     "output_type": "display_data"
    }
   ],
   "source": [
    "tmdb.plot.scatter(x='popularity', y='revenue_adj')\n",
    "tmdb.plot.scatter(x='vote_count',y='revenue_adj')\n",
    "tmdb.plot.scatter(x='budget_adj',y='revenue_adj')"
   ]
  },
  {
   "cell_type": "markdown",
   "metadata": {},
   "source": [
    "**Conclusion:**\n",
    ">- In general, the three variabels(`popularity`, `vote_count` and `budget_adj`) are all positively correlated with `revenue_adj`, but the correlation is not very strong, which is the same conclusion from the heatmap;\n",
    ">- There are many outlier data, some movies with extremely high popularity and high vote_count do not have extremely high revenue. These movies maybe controversial, and popularity and vote_count alone are not good indicator for movie success.\n",
    ">- Also, some extremely high budget movies do not have very high revenue, which means they maybe losing money."
   ]
  },
  {
   "cell_type": "markdown",
   "metadata": {},
   "source": [
    "## 2. Explore Answers for research questions "
   ]
  },
  {
   "cell_type": "markdown",
   "metadata": {},
   "source": [
    "### Question 1. What are the profitibility trend for movie industry? "
   ]
  },
  {
   "cell_type": "code",
   "execution_count": 18,
   "metadata": {},
   "outputs": [
    {
     "data": {
      "text/plain": [
       "<matplotlib.axes._subplots.AxesSubplot at 0x1a201135c0>"
      ]
     },
     "execution_count": 18,
     "metadata": {},
     "output_type": "execute_result"
    },
    {
     "data": {
      "image/png": "[encoded data removed]",
      "text/plain": [
       "<Figure size 432x288 with 1 Axes>"
      ]
     },
     "metadata": {
      "needs_background": "light"
     },
     "output_type": "display_data"
    }
   ],
   "source": [
    "2. # create a column for profit\n",
    "tmdb['profit']=tmdb['revenue_adj']-tmdb['budget_adj']\n",
    "tmdb['profit'].plot.box()"
   ]
  },
  {
   "cell_type": "markdown",
   "metadata": {},
   "source": [
    ">- **Some movies are losing money; others, however have huge profit.**"
   ]
  },
  {
   "cell_type": "code",
   "execution_count": 19,
   "metadata": {},
   "outputs": [
    {
     "data": {
      "text/html": [
       "<div>\n",
       "<style scoped>\n",
       "    .dataframe tbody tr th:only-of-type {\n",
       "        vertical-align: middle;\n",
       "    }\n",
       "\n",
       "    .dataframe tbody tr th {\n",
       "        vertical-align: top;\n",
       "    }\n",
       "\n",
       "    .dataframe thead th {\n",
       "        text-align: right;\n",
       "    }\n",
       "</style>\n",
       "<table border=\"1\" class=\"dataframe\">\n",
       "  <thead>\n",
       "    <tr style=\"text-align: right;\">\n",
       "      <th></th>\n",
       "      <th>popularity</th>\n",
       "      <th>runtime</th>\n",
       "      <th>vote_count</th>\n",
       "      <th>vote_average</th>\n",
       "      <th>budget_adj</th>\n",
       "      <th>revenue_adj</th>\n",
       "      <th>profit</th>\n",
       "    </tr>\n",
       "    <tr>\n",
       "      <th>release_year</th>\n",
       "      <th></th>\n",
       "      <th></th>\n",
       "      <th></th>\n",
       "      <th></th>\n",
       "      <th></th>\n",
       "      <th></th>\n",
       "      <th></th>\n",
       "    </tr>\n",
       "  </thead>\n",
       "  <tbody>\n",
       "    <tr>\n",
       "      <th>1960</th>\n",
       "      <td>0.890063</td>\n",
       "      <td>108.777778</td>\n",
       "      <td>227.000000</td>\n",
       "      <td>7.022222</td>\n",
       "      <td>1.806946e+07</td>\n",
       "      <td>1.056833e+08</td>\n",
       "      <td>8.761383e+07</td>\n",
       "    </tr>\n",
       "    <tr>\n",
       "      <th>1961</th>\n",
       "      <td>0.650838</td>\n",
       "      <td>131.615385</td>\n",
       "      <td>157.615385</td>\n",
       "      <td>6.615385</td>\n",
       "      <td>2.588946e+07</td>\n",
       "      <td>1.895094e+08</td>\n",
       "      <td>1.636199e+08</td>\n",
       "    </tr>\n",
       "  </tbody>\n",
       "</table>\n",
       "</div>"
      ],
      "text/plain": [
       "              popularity     runtime  vote_count  vote_average    budget_adj  \\\n",
       "release_year                                                                   \n",
       "1960            0.890063  108.777778  227.000000      7.022222  1.806946e+07   \n",
       "1961            0.650838  131.615385  157.615385      6.615385  2.588946e+07   \n",
       "\n",
       "               revenue_adj        profit  \n",
       "release_year                              \n",
       "1960          1.056833e+08  8.761383e+07  \n",
       "1961          1.895094e+08  1.636199e+08  "
      ]
     },
     "execution_count": 19,
     "metadata": {},
     "output_type": "execute_result"
    }
   ],
   "source": [
    "# Create a dataframe that group by year and calculate mean value\n",
    "year_mean=tmdb.groupby('release_year').mean()\n",
    "year_mean.head(2)"
   ]
  },
  {
   "cell_type": "code",
   "execution_count": 20,
   "metadata": {},
   "outputs": [
    {
     "data": {
      "text/plain": [
       "<matplotlib.legend.Legend at 0x1a2094e438>"
      ]
     },
     "execution_count": 20,
     "metadata": {},
     "output_type": "execute_result"
    },
    {
     "data": {
      "image/png": "[encoded data removed]",
      "text/plain": [
       "<Figure size 432x288 with 1 Axes>"
      ]
     },
     "metadata": {
      "needs_background": "light"
     },
     "output_type": "display_data"
    }
   ],
   "source": [
    "# plotting line chart for profit\n",
    "plt.plot(year_mean.index, year_mean['profit'],label='Profit')\n",
    "plt.xlabel('years')\n",
    "plt.ylabel('In terms of 2010 dollars')\n",
    "plt.title('Profit over years')\n",
    "plt.legend()"
   ]
  },
  {
   "cell_type": "markdown",
   "metadata": {},
   "source": [
    "**Conclusion:**\n",
    ">- Overrall, the average profit per movie is lower since 1980; There is less profit to making a movie compared with three decades ago.\n",
    ">- In the earlier years from 1960 to 1980, film industry have higher prifit but with very high fluctuation too, and the profit trend is more stable in recent years.\n",
    ">- We can conclude in the earlier years, film industry is relatively new, high risk is associated with high profit."
   ]
  },
  {
   "cell_type": "markdown",
   "metadata": {},
   "source": [
    "### Question 2: Are newer movies more popular?"
   ]
  },
  {
   "cell_type": "code",
   "execution_count": 21,
   "metadata": {},
   "outputs": [
    {
     "data": {
      "text/plain": [
       "<matplotlib.legend.Legend at 0x1a2096bf98>"
      ]
     },
     "execution_count": 21,
     "metadata": {},
     "output_type": "execute_result"
    },
    {
     "data": {
      "image/png": "[encoded data removed]",
      "text/plain": [
       "<Figure size 432x288 with 1 Axes>"
      ]
     },
     "metadata": {
      "needs_background": "light"
     },
     "output_type": "display_data"
    }
   ],
   "source": [
    "# Since popularuty variable has some outlier data, we use vote_count to count for popularity.\n",
    "plt.plot(year_mean.index, year_mean['vote_count'], label='vote_count')\n",
    "plt.xlabel('years')\n",
    "plt.ylabel('vote_count')\n",
    "plt.title('Movie vote_count over years')\n",
    "plt.legend()"
   ]
  },
  {
   "cell_type": "markdown",
   "metadata": {},
   "source": [
    "**Conclusion:**\n",
    ">- Yes. There is clear trend that the newer movies are more popular. "
   ]
  },
  {
   "cell_type": "markdown",
   "metadata": {},
   "source": [
    "### Question 3: What kinds of properties are associated with movies that have high revenues?"
   ]
  },
  {
   "cell_type": "markdown",
   "metadata": {},
   "source": [
    "**1. Find out the movies with very high revenues**"
   ]
  },
  {
   "cell_type": "code",
   "execution_count": 22,
   "metadata": {},
   "outputs": [
    {
     "data": {
      "text/plain": [
       "min    0.000000e+00\n",
       "50%    2.872138e+07\n",
       "80%    1.496016e+08\n",
       "90%    2.880722e+08\n",
       "max    2.827124e+09\n",
       "Name: revenue_adj, dtype: float64"
      ]
     },
     "execution_count": 22,
     "metadata": {},
     "output_type": "execute_result"
    }
   ],
   "source": [
    "# check the distribution for 'revenue_adj'\n",
    "tmdb.revenue_adj.describe([.8,.9]).iloc[3:]"
   ]
  },
  {
   "cell_type": "code",
   "execution_count": 23,
   "metadata": {},
   "outputs": [
    {
     "data": {
      "text/plain": [
       "low          1550\n",
       "zero         1312\n",
       "very_low     1271\n",
       "very_high     517\n",
       "high          516\n",
       "Name: revenue_level, dtype: int64"
      ]
     },
     "execution_count": 23,
     "metadata": {},
     "output_type": "execute_result"
    }
   ],
   "source": [
    "# Create an ordinal data column to categarize movies with different levels of revenues\n",
    "bin_edge=[-1, 0.1, 2.872138e+07, 1.496016e+08, 2.880722e+08, 3e+09]\n",
    "bin_names=['zero','very_low','low','high','very_high']\n",
    "tmdb['revenue_level']=pd.cut(tmdb.revenue_adj,bin_edge,labels=bin_names)\n",
    "tmdb['revenue_level'].value_counts()"
   ]
  },
  {
   "cell_type": "markdown",
   "metadata": {},
   "source": [
    ">- Half of the movies have very_low or even negative revenue\n",
    ">- There are **517 movies with very high_revenue**, let's focus on these movies."
   ]
  },
  {
   "cell_type": "code",
   "execution_count": 24,
   "metadata": {},
   "outputs": [
    {
     "data": {
      "text/html": [
       "<div>\n",
       "<style scoped>\n",
       "    .dataframe tbody tr th:only-of-type {\n",
       "        vertical-align: middle;\n",
       "    }\n",
       "\n",
       "    .dataframe tbody tr th {\n",
       "        vertical-align: top;\n",
       "    }\n",
       "\n",
       "    .dataframe thead th {\n",
       "        text-align: right;\n",
       "    }\n",
       "</style>\n",
       "<table border=\"1\" class=\"dataframe\">\n",
       "  <thead>\n",
       "    <tr style=\"text-align: right;\">\n",
       "      <th></th>\n",
       "      <th>popularity</th>\n",
       "      <th>original_title</th>\n",
       "      <th>cast</th>\n",
       "      <th>director</th>\n",
       "      <th>runtime</th>\n",
       "      <th>genres</th>\n",
       "      <th>vote_count</th>\n",
       "      <th>vote_average</th>\n",
       "      <th>release_year</th>\n",
       "      <th>budget_adj</th>\n",
       "      <th>revenue_adj</th>\n",
       "      <th>profit</th>\n",
       "      <th>revenue_level</th>\n",
       "    </tr>\n",
       "  </thead>\n",
       "  <tbody>\n",
       "    <tr>\n",
       "      <th>0</th>\n",
       "      <td>32.985763</td>\n",
       "      <td>Jurassic World</td>\n",
       "      <td>Chris Pratt|Bryce Dallas Howard|Irrfan Khan|Vi...</td>\n",
       "      <td>Colin Trevorrow</td>\n",
       "      <td>124</td>\n",
       "      <td>Action|Adventure|Science Fiction|Thriller</td>\n",
       "      <td>5562</td>\n",
       "      <td>6.5</td>\n",
       "      <td>2015</td>\n",
       "      <td>1.379999e+08</td>\n",
       "      <td>1.392446e+09</td>\n",
       "      <td>1.254446e+09</td>\n",
       "      <td>very_high</td>\n",
       "    </tr>\n",
       "    <tr>\n",
       "      <th>1</th>\n",
       "      <td>28.419936</td>\n",
       "      <td>Mad Max: Fury Road</td>\n",
       "      <td>Tom Hardy|Charlize Theron|Hugh Keays-Byrne|Nic...</td>\n",
       "      <td>George Miller</td>\n",
       "      <td>120</td>\n",
       "      <td>Action|Adventure|Science Fiction|Thriller</td>\n",
       "      <td>6185</td>\n",
       "      <td>7.1</td>\n",
       "      <td>2015</td>\n",
       "      <td>1.379999e+08</td>\n",
       "      <td>3.481613e+08</td>\n",
       "      <td>2.101614e+08</td>\n",
       "      <td>very_high</td>\n",
       "    </tr>\n",
       "    <tr>\n",
       "      <th>3</th>\n",
       "      <td>11.173104</td>\n",
       "      <td>Star Wars: The Force Awakens</td>\n",
       "      <td>Harrison Ford|Mark Hamill|Carrie Fisher|Adam D...</td>\n",
       "      <td>J.J. Abrams</td>\n",
       "      <td>136</td>\n",
       "      <td>Action|Adventure|Science Fiction|Fantasy</td>\n",
       "      <td>5292</td>\n",
       "      <td>7.5</td>\n",
       "      <td>2015</td>\n",
       "      <td>1.839999e+08</td>\n",
       "      <td>1.902723e+09</td>\n",
       "      <td>1.718723e+09</td>\n",
       "      <td>very_high</td>\n",
       "    </tr>\n",
       "    <tr>\n",
       "      <th>4</th>\n",
       "      <td>9.335014</td>\n",
       "      <td>Furious 7</td>\n",
       "      <td>Vin Diesel|Paul Walker|Jason Statham|Michelle ...</td>\n",
       "      <td>James Wan</td>\n",
       "      <td>137</td>\n",
       "      <td>Action|Crime|Thriller</td>\n",
       "      <td>2947</td>\n",
       "      <td>7.3</td>\n",
       "      <td>2015</td>\n",
       "      <td>1.747999e+08</td>\n",
       "      <td>1.385749e+09</td>\n",
       "      <td>1.210949e+09</td>\n",
       "      <td>very_high</td>\n",
       "    </tr>\n",
       "    <tr>\n",
       "      <th>5</th>\n",
       "      <td>9.110700</td>\n",
       "      <td>The Revenant</td>\n",
       "      <td>Leonardo DiCaprio|Tom Hardy|Will Poulter|Domhn...</td>\n",
       "      <td>Alejandro GonzÃ¡lez IÃ±Ã¡rritu</td>\n",
       "      <td>156</td>\n",
       "      <td>Western|Drama|Adventure|Thriller</td>\n",
       "      <td>3929</td>\n",
       "      <td>7.2</td>\n",
       "      <td>2015</td>\n",
       "      <td>1.241999e+08</td>\n",
       "      <td>4.903142e+08</td>\n",
       "      <td>3.661143e+08</td>\n",
       "      <td>very_high</td>\n",
       "    </tr>\n",
       "  </tbody>\n",
       "</table>\n",
       "</div>"
      ],
      "text/plain": [
       "   popularity                original_title  \\\n",
       "0   32.985763                Jurassic World   \n",
       "1   28.419936            Mad Max: Fury Road   \n",
       "3   11.173104  Star Wars: The Force Awakens   \n",
       "4    9.335014                     Furious 7   \n",
       "5    9.110700                  The Revenant   \n",
       "\n",
       "                                                cast  \\\n",
       "0  Chris Pratt|Bryce Dallas Howard|Irrfan Khan|Vi...   \n",
       "1  Tom Hardy|Charlize Theron|Hugh Keays-Byrne|Nic...   \n",
       "3  Harrison Ford|Mark Hamill|Carrie Fisher|Adam D...   \n",
       "4  Vin Diesel|Paul Walker|Jason Statham|Michelle ...   \n",
       "5  Leonardo DiCaprio|Tom Hardy|Will Poulter|Domhn...   \n",
       "\n",
       "                         director  runtime  \\\n",
       "0                 Colin Trevorrow      124   \n",
       "1                   George Miller      120   \n",
       "3                     J.J. Abrams      136   \n",
       "4                       James Wan      137   \n",
       "5  Alejandro GonzÃ¡lez IÃ±Ã¡rritu      156   \n",
       "\n",
       "                                      genres  vote_count  vote_average  \\\n",
       "0  Action|Adventure|Science Fiction|Thriller        5562           6.5   \n",
       "1  Action|Adventure|Science Fiction|Thriller        6185           7.1   \n",
       "3   Action|Adventure|Science Fiction|Fantasy        5292           7.5   \n",
       "4                      Action|Crime|Thriller        2947           7.3   \n",
       "5           Western|Drama|Adventure|Thriller        3929           7.2   \n",
       "\n",
       "   release_year    budget_adj   revenue_adj        profit revenue_level  \n",
       "0          2015  1.379999e+08  1.392446e+09  1.254446e+09     very_high  \n",
       "1          2015  1.379999e+08  3.481613e+08  2.101614e+08     very_high  \n",
       "3          2015  1.839999e+08  1.902723e+09  1.718723e+09     very_high  \n",
       "4          2015  1.747999e+08  1.385749e+09  1.210949e+09     very_high  \n",
       "5          2015  1.241999e+08  4.903142e+08  3.661143e+08     very_high  "
      ]
     },
     "execution_count": 24,
     "metadata": {},
     "output_type": "execute_result"
    }
   ],
   "source": [
    "# Create a dataframe that only contains movies with very high revenues\n",
    "very_high=tmdb[tmdb['revenue_level']=='very_high']\n",
    "# View top 5 very_high revenue movies\n",
    "very_high.head()"
   ]
  },
  {
   "cell_type": "markdown",
   "metadata": {},
   "source": [
    "**2. Find out among the very_high profit movies, what kinds of generes are the most common ones.** "
   ]
  },
  {
   "cell_type": "code",
   "execution_count": 25,
   "metadata": {},
   "outputs": [
    {
     "data": {
      "text/html": [
       "<div>\n",
       "<style scoped>\n",
       "    .dataframe tbody tr th:only-of-type {\n",
       "        vertical-align: middle;\n",
       "    }\n",
       "\n",
       "    .dataframe tbody tr th {\n",
       "        vertical-align: top;\n",
       "    }\n",
       "\n",
       "    .dataframe thead th {\n",
       "        text-align: right;\n",
       "    }\n",
       "</style>\n",
       "<table border=\"1\" class=\"dataframe\">\n",
       "  <thead>\n",
       "    <tr style=\"text-align: right;\">\n",
       "      <th></th>\n",
       "      <th>0</th>\n",
       "      <th>1</th>\n",
       "      <th>2</th>\n",
       "      <th>3</th>\n",
       "      <th>4</th>\n",
       "    </tr>\n",
       "  </thead>\n",
       "  <tbody>\n",
       "    <tr>\n",
       "      <th>0</th>\n",
       "      <td>Action</td>\n",
       "      <td>Adventure</td>\n",
       "      <td>Science Fiction</td>\n",
       "      <td>Thriller</td>\n",
       "      <td>None</td>\n",
       "    </tr>\n",
       "    <tr>\n",
       "      <th>1</th>\n",
       "      <td>Action</td>\n",
       "      <td>Adventure</td>\n",
       "      <td>Science Fiction</td>\n",
       "      <td>Thriller</td>\n",
       "      <td>None</td>\n",
       "    </tr>\n",
       "    <tr>\n",
       "      <th>3</th>\n",
       "      <td>Action</td>\n",
       "      <td>Adventure</td>\n",
       "      <td>Science Fiction</td>\n",
       "      <td>Fantasy</td>\n",
       "      <td>None</td>\n",
       "    </tr>\n",
       "    <tr>\n",
       "      <th>4</th>\n",
       "      <td>Action</td>\n",
       "      <td>Crime</td>\n",
       "      <td>Thriller</td>\n",
       "      <td>None</td>\n",
       "      <td>None</td>\n",
       "    </tr>\n",
       "    <tr>\n",
       "      <th>5</th>\n",
       "      <td>Western</td>\n",
       "      <td>Drama</td>\n",
       "      <td>Adventure</td>\n",
       "      <td>Thriller</td>\n",
       "      <td>None</td>\n",
       "    </tr>\n",
       "  </tbody>\n",
       "</table>\n",
       "</div>"
      ],
      "text/plain": [
       "         0          1                2         3     4\n",
       "0   Action  Adventure  Science Fiction  Thriller  None\n",
       "1   Action  Adventure  Science Fiction  Thriller  None\n",
       "3   Action  Adventure  Science Fiction   Fantasy  None\n",
       "4   Action      Crime         Thriller      None  None\n",
       "5  Western      Drama        Adventure  Thriller  None"
      ]
     },
     "execution_count": 25,
     "metadata": {},
     "output_type": "execute_result"
    }
   ],
   "source": [
    "# separate the generes with '|' and make it a new table\n",
    "generes=very_high['genres'].str.split('|', expand=True)\n",
    "# view the new table\n",
    "generes.head()"
   ]
  },
  {
   "cell_type": "code",
   "execution_count": 26,
   "metadata": {},
   "outputs": [
    {
     "data": {
      "text/plain": [
       "Action             121\n",
       "Adventure          116\n",
       "Animation           44\n",
       "Comedy              63\n",
       "Crime               12\n",
       "Drama               61\n",
       "Family              12\n",
       "Fantasy             26\n",
       "History              3\n",
       "Horror               9\n",
       "Music                6\n",
       "Mystery              3\n",
       "Romance              6\n",
       "Science Fiction     21\n",
       "Thriller             9\n",
       "War                  3\n",
       "Western              2\n",
       "Name: 0, dtype: int64"
      ]
     },
     "execution_count": 26,
     "metadata": {},
     "output_type": "execute_result"
    }
   ],
   "source": [
    "# Count the frequency for each genere for column 0, sorted as index.\n",
    "col_0=generes.loc[:,0].value_counts().sort_index()\n",
    "col_0"
   ]
  },
  {
   "cell_type": "code",
   "execution_count": 27,
   "metadata": {},
   "outputs": [
    {
     "data": {
      "text/html": [
       "<div>\n",
       "<style scoped>\n",
       "    .dataframe tbody tr th:only-of-type {\n",
       "        vertical-align: middle;\n",
       "    }\n",
       "\n",
       "    .dataframe tbody tr th {\n",
       "        vertical-align: top;\n",
       "    }\n",
       "\n",
       "    .dataframe thead th {\n",
       "        text-align: right;\n",
       "    }\n",
       "</style>\n",
       "<table border=\"1\" class=\"dataframe\">\n",
       "  <thead>\n",
       "    <tr style=\"text-align: right;\">\n",
       "      <th></th>\n",
       "      <th>0</th>\n",
       "    </tr>\n",
       "  </thead>\n",
       "  <tbody>\n",
       "    <tr>\n",
       "      <th>Action</th>\n",
       "      <td>121</td>\n",
       "    </tr>\n",
       "    <tr>\n",
       "      <th>Adventure</th>\n",
       "      <td>116</td>\n",
       "    </tr>\n",
       "    <tr>\n",
       "      <th>Animation</th>\n",
       "      <td>44</td>\n",
       "    </tr>\n",
       "    <tr>\n",
       "      <th>Comedy</th>\n",
       "      <td>63</td>\n",
       "    </tr>\n",
       "    <tr>\n",
       "      <th>Crime</th>\n",
       "      <td>12</td>\n",
       "    </tr>\n",
       "  </tbody>\n",
       "</table>\n",
       "</div>"
      ],
      "text/plain": [
       "             0\n",
       "Action     121\n",
       "Adventure  116\n",
       "Animation   44\n",
       "Comedy      63\n",
       "Crime       12"
      ]
     },
     "execution_count": 27,
     "metadata": {},
     "output_type": "execute_result"
    }
   ],
   "source": [
    "# Convert the pandas Series to a data frame \n",
    "df_0=pd.DataFrame(data=col_0, index=col_0.index)\n",
    "df_0.head()"
   ]
  },
  {
   "cell_type": "code",
   "execution_count": 28,
   "metadata": {},
   "outputs": [],
   "source": [
    "# do the same for other columns:\n",
    "col_1=generes.loc[:,1].value_counts().sort_index()\n",
    "df_1=pd.DataFrame(data=col_1, index=col_1.index)\n",
    "\n",
    "col_2=generes.loc[:,2].value_counts().sort_index()\n",
    "df_2=pd.DataFrame(data=col_2, index=col_2.index)\n",
    "\n",
    "col_3=generes.loc[:,3].value_counts().sort_index()\n",
    "df_3=pd.DataFrame(data=col_3, index=col_3.index)\n",
    "\n",
    "col_4=generes.loc[:,4].value_counts().sort_index()\n",
    "df_4=pd.DataFrame(data=col_4, index=col_4.index)"
   ]
  },
  {
   "cell_type": "code",
   "execution_count": 29,
   "metadata": {},
   "outputs": [
    {
     "data": {
      "text/html": [
       "<div>\n",
       "<style scoped>\n",
       "    .dataframe tbody tr th:only-of-type {\n",
       "        vertical-align: middle;\n",
       "    }\n",
       "\n",
       "    .dataframe tbody tr th {\n",
       "        vertical-align: top;\n",
       "    }\n",
       "\n",
       "    .dataframe thead th {\n",
       "        text-align: right;\n",
       "    }\n",
       "</style>\n",
       "<table border=\"1\" class=\"dataframe\">\n",
       "  <thead>\n",
       "    <tr style=\"text-align: right;\">\n",
       "      <th></th>\n",
       "      <th>0</th>\n",
       "      <th>1</th>\n",
       "      <th>2</th>\n",
       "      <th>3</th>\n",
       "      <th>4</th>\n",
       "    </tr>\n",
       "  </thead>\n",
       "  <tbody>\n",
       "    <tr>\n",
       "      <th>Action</th>\n",
       "      <td>121</td>\n",
       "      <td>79</td>\n",
       "      <td>33</td>\n",
       "      <td>3.0</td>\n",
       "      <td>4.0</td>\n",
       "    </tr>\n",
       "    <tr>\n",
       "      <th>Adventure</th>\n",
       "      <td>116</td>\n",
       "      <td>74</td>\n",
       "      <td>36</td>\n",
       "      <td>14.0</td>\n",
       "      <td>1.0</td>\n",
       "    </tr>\n",
       "    <tr>\n",
       "      <th>Animation</th>\n",
       "      <td>44</td>\n",
       "      <td>23</td>\n",
       "      <td>9</td>\n",
       "      <td>3.0</td>\n",
       "      <td>2.0</td>\n",
       "    </tr>\n",
       "    <tr>\n",
       "      <th>Comedy</th>\n",
       "      <td>63</td>\n",
       "      <td>44</td>\n",
       "      <td>37</td>\n",
       "      <td>13.0</td>\n",
       "      <td>5.0</td>\n",
       "    </tr>\n",
       "    <tr>\n",
       "      <th>Crime</th>\n",
       "      <td>12</td>\n",
       "      <td>16</td>\n",
       "      <td>19</td>\n",
       "      <td>11.0</td>\n",
       "      <td>2.0</td>\n",
       "    </tr>\n",
       "  </tbody>\n",
       "</table>\n",
       "</div>"
      ],
      "text/plain": [
       "             0   1   2     3    4\n",
       "Action     121  79  33   3.0  4.0\n",
       "Adventure  116  74  36  14.0  1.0\n",
       "Animation   44  23   9   3.0  2.0\n",
       "Comedy      63  44  37  13.0  5.0\n",
       "Crime       12  16  19  11.0  2.0"
      ]
     },
     "execution_count": 29,
     "metadata": {},
     "output_type": "execute_result"
    }
   ],
   "source": [
    "# join the other 4 dataframe together\n",
    "generes_join=df_0.join(df_1).join(df_2).join(df_3).join(df_4)\n",
    "generes_join.head()"
   ]
  },
  {
   "cell_type": "code",
   "execution_count": 30,
   "metadata": {},
   "outputs": [],
   "source": [
    "# calculate the sum of each genere's frequency\n",
    "generes_join['sum']=generes.sum(axis=1)"
   ]
  },
  {
   "cell_type": "code",
   "execution_count": 31,
   "metadata": {},
   "outputs": [
    {
     "data": {
      "text/html": [
       "<div>\n",
       "<style scoped>\n",
       "    .dataframe tbody tr th:only-of-type {\n",
       "        vertical-align: middle;\n",
       "    }\n",
       "\n",
       "    .dataframe tbody tr th {\n",
       "        vertical-align: top;\n",
       "    }\n",
       "\n",
       "    .dataframe thead th {\n",
       "        text-align: right;\n",
       "    }\n",
       "</style>\n",
       "<table border=\"1\" class=\"dataframe\">\n",
       "  <thead>\n",
       "    <tr style=\"text-align: right;\">\n",
       "      <th></th>\n",
       "      <th>0</th>\n",
       "      <th>1</th>\n",
       "      <th>2</th>\n",
       "      <th>3</th>\n",
       "      <th>4</th>\n",
       "      <th>sum</th>\n",
       "    </tr>\n",
       "  </thead>\n",
       "  <tbody>\n",
       "    <tr>\n",
       "      <th>Action</th>\n",
       "      <td>121</td>\n",
       "      <td>79</td>\n",
       "      <td>33</td>\n",
       "      <td>3.0</td>\n",
       "      <td>4.0</td>\n",
       "      <td>NaN</td>\n",
       "    </tr>\n",
       "    <tr>\n",
       "      <th>Adventure</th>\n",
       "      <td>116</td>\n",
       "      <td>74</td>\n",
       "      <td>36</td>\n",
       "      <td>14.0</td>\n",
       "      <td>1.0</td>\n",
       "      <td>NaN</td>\n",
       "    </tr>\n",
       "    <tr>\n",
       "      <th>Animation</th>\n",
       "      <td>44</td>\n",
       "      <td>23</td>\n",
       "      <td>9</td>\n",
       "      <td>3.0</td>\n",
       "      <td>2.0</td>\n",
       "      <td>NaN</td>\n",
       "    </tr>\n",
       "    <tr>\n",
       "      <th>Comedy</th>\n",
       "      <td>63</td>\n",
       "      <td>44</td>\n",
       "      <td>37</td>\n",
       "      <td>13.0</td>\n",
       "      <td>5.0</td>\n",
       "      <td>NaN</td>\n",
       "    </tr>\n",
       "    <tr>\n",
       "      <th>Crime</th>\n",
       "      <td>12</td>\n",
       "      <td>16</td>\n",
       "      <td>19</td>\n",
       "      <td>11.0</td>\n",
       "      <td>2.0</td>\n",
       "      <td>NaN</td>\n",
       "    </tr>\n",
       "  </tbody>\n",
       "</table>\n",
       "</div>"
      ],
      "text/plain": [
       "             0   1   2     3    4  sum\n",
       "Action     121  79  33   3.0  4.0  NaN\n",
       "Adventure  116  74  36  14.0  1.0  NaN\n",
       "Animation   44  23   9   3.0  2.0  NaN\n",
       "Comedy      63  44  37  13.0  5.0  NaN\n",
       "Crime       12  16  19  11.0  2.0  NaN"
      ]
     },
     "execution_count": 31,
     "metadata": {},
     "output_type": "execute_result"
    }
   ],
   "source": [
    "# sort value based on frequency sum and show top 5\n",
    "generes_join.sort_values('sum', ascending=False).head()"
   ]
  },
  {
   "cell_type": "markdown",
   "metadata": {},
   "source": [
    ">- Now we can see among these very_high revenue movies, the generes with **'Action', 'Adventure', 'Comedy','Drama', 'Thriller'** are top five generes"
   ]
  },
  {
   "cell_type": "markdown",
   "metadata": {},
   "source": [
    "**3. Explore movie runtime for very_high revenue movies**"
   ]
  },
  {
   "cell_type": "code",
   "execution_count": 32,
   "metadata": {},
   "outputs": [
    {
     "data": {
      "text/plain": [
       "Text(0.5, 1.0, 'Runtime distribution for very high revenue movies')"
      ]
     },
     "execution_count": 32,
     "metadata": {},
     "output_type": "execute_result"
    },
    {
     "data": {
      "image/png": "[encoded data removed]",
      "text/plain": [
       "<Figure size 432x288 with 1 Axes>"
      ]
     },
     "metadata": {
      "needs_background": "light"
     },
     "output_type": "display_data"
    }
   ],
   "source": [
    "# check the runtime distribution\n",
    "very_high['runtime'].plot.hist()\n",
    "plt.xlabel('movie runtime')\n",
    "plt.title('Runtime distribution for very high revenue movies')"
   ]
  },
  {
   "cell_type": "markdown",
   "metadata": {},
   "source": [
    ">- Most movies in this dataset have runtime ranging from **75 to 150 minutes, with 100 to 125 the most popular**. \n",
    ">- Although some movies that have long runtime also have high revenue,a movie made under 1 hour is less likely to have very high revenue."
   ]
  },
  {
   "cell_type": "markdown",
   "metadata": {},
   "source": [
    "**4. Explore release_year for very_high revenue movies**"
   ]
  },
  {
   "cell_type": "code",
   "execution_count": 33,
   "metadata": {},
   "outputs": [
    {
     "data": {
      "text/plain": [
       "Text(0.5, 1.0, 'Release_year distribution for very high revenue movies')"
      ]
     },
     "execution_count": 33,
     "metadata": {},
     "output_type": "execute_result"
    },
    {
     "data": {
      "image/png": "[encoded data removed]",
      "text/plain": [
       "<Figure size 432x288 with 1 Axes>"
      ]
     },
     "metadata": {
      "needs_background": "light"
     },
     "output_type": "display_data"
    }
   ],
   "source": [
    "# check the release_year distribution\n",
    "very_high['release_year'].plot.hist()\n",
    "plt.xlabel('movie release_year')\n",
    "plt.title('Release_year distribution for very high revenue movies')"
   ]
  },
  {
   "cell_type": "markdown",
   "metadata": {},
   "source": [
    ">- The movies in this dataset range from 1960 to 2015, which is very similiar distribution with the plot from whole dataset. \n",
    ">- Since there are more movies produced over years and from the line chart previously, we can conclude newer movies does not mean higher profit, it will depend on the movie itself. "
   ]
  },
  {
   "cell_type": "markdown",
   "metadata": {},
   "source": [
    "**5. Explore movie ratings for very_high revenue movies**"
   ]
  },
  {
   "cell_type": "code",
   "execution_count": 34,
   "metadata": {},
   "outputs": [
    {
     "data": {
      "text/plain": [
       "Text(0.5, 1.0, 'Movie ratings distribution for very high revenue movies')"
      ]
     },
     "execution_count": 34,
     "metadata": {},
     "output_type": "execute_result"
    },
    {
     "data": {
      "image/png": "[encoded data removed]",
      "text/plain": [
       "<Figure size 432x288 with 1 Axes>"
      ]
     },
     "metadata": {
      "needs_background": "light"
     },
     "output_type": "display_data"
    }
   ],
   "source": [
    "# check the vote_average' distribution\n",
    "very_high['vote_average'].plot.hist()\n",
    "plt.xlabel('movie ratings')\n",
    "plt.title('Movie ratings distribution for very high revenue movies')"
   ]
  },
  {
   "cell_type": "markdown",
   "metadata": {},
   "source": [
    ">- The chart reveals similar pattern compared with the plotting for whole dataset, but with higher rating in general ,ranging from 4.5 to 8.5, and average is roughly 6.5. From the heatmap earlier, we also see there isn't strong relation between vote_average and high revenue, but a movie with low rating will not have very high revenue."
   ]
  },
  {
   "cell_type": "markdown",
   "metadata": {},
   "source": [
    "**6. Explore budget for very_high revenue movies**"
   ]
  },
  {
   "cell_type": "code",
   "execution_count": 35,
   "metadata": {},
   "outputs": [
    {
     "data": {
      "text/plain": [
       "Text(0.5, 1.0, 'Relation between revenue and budget')"
      ]
     },
     "execution_count": 35,
     "metadata": {},
     "output_type": "execute_result"
    },
    {
     "data": {
      "image/png": "[encoded data removed]",
      "text/plain": [
       "<Figure size 432x288 with 1 Axes>"
      ]
     },
     "metadata": {
      "needs_background": "light"
     },
     "output_type": "display_data"
    }
   ],
   "source": [
    "# Are these high revenue movies made with high budget?\n",
    "very_high.plot.scatter(x='revenue_adj', y='budget_adj')\n",
    "plt.title('Relation between revenue and budget')"
   ]
  },
  {
   "cell_type": "markdown",
   "metadata": {},
   "source": [
    ">- From the heatmap for movies with whole dataset, we found budget and revenue are positively related with each other, however, as we can see among these high_revenue movies, the correlation pattern is weak. \n",
    ">- There are some high reveue moives with low budget and vice versa"
   ]
  },
  {
   "cell_type": "markdown",
   "metadata": {},
   "source": [
    "### Question 4. Is it possible to make extremely high profit movies with low budget?"
   ]
  },
  {
   "cell_type": "code",
   "execution_count": 36,
   "metadata": {},
   "outputs": [
    {
     "data": {
      "text/plain": [
       "22735593.84987325"
      ]
     },
     "execution_count": 36,
     "metadata": {},
     "output_type": "execute_result"
    }
   ],
   "source": [
    "# find out the median value for the whole data\n",
    "tmdb.budget_adj.median()"
   ]
  },
  {
   "cell_type": "code",
   "execution_count": 37,
   "metadata": {},
   "outputs": [
    {
     "name": "stdout",
     "output_type": "stream",
     "text": [
      "2583\n"
     ]
    },
    {
     "data": {
      "text/plain": [
       "zero         1022\n",
       "very_low      910\n",
       "low           548\n",
       "high           64\n",
       "very_high      39\n",
       "Name: revenue_level, dtype: int64"
      ]
     },
     "execution_count": 37,
     "metadata": {},
     "output_type": "execute_result"
    }
   ],
   "source": [
    "# create a table for low_budget\n",
    "low_budget=tmdb[tmdb['budget_adj']<22735593.850]\n",
    "print(low_budget.shape[0])\n",
    "low_budget['revenue_level'].value_counts()"
   ]
  },
  {
   "cell_type": "code",
   "execution_count": 38,
   "metadata": {},
   "outputs": [
    {
     "data": {
      "text/html": [
       "<div>\n",
       "<style scoped>\n",
       "    .dataframe tbody tr th:only-of-type {\n",
       "        vertical-align: middle;\n",
       "    }\n",
       "\n",
       "    .dataframe tbody tr th {\n",
       "        vertical-align: top;\n",
       "    }\n",
       "\n",
       "    .dataframe thead th {\n",
       "        text-align: right;\n",
       "    }\n",
       "</style>\n",
       "<table border=\"1\" class=\"dataframe\">\n",
       "  <thead>\n",
       "    <tr style=\"text-align: right;\">\n",
       "      <th></th>\n",
       "      <th>popularity</th>\n",
       "      <th>original_title</th>\n",
       "      <th>cast</th>\n",
       "      <th>director</th>\n",
       "      <th>runtime</th>\n",
       "      <th>genres</th>\n",
       "      <th>vote_count</th>\n",
       "      <th>vote_average</th>\n",
       "      <th>release_year</th>\n",
       "      <th>budget_adj</th>\n",
       "      <th>revenue_adj</th>\n",
       "      <th>profit</th>\n",
       "      <th>revenue_level</th>\n",
       "    </tr>\n",
       "  </thead>\n",
       "  <tbody>\n",
       "    <tr>\n",
       "      <th>1340</th>\n",
       "      <td>0.602862</td>\n",
       "      <td>Saturday Night Fever</td>\n",
       "      <td>John Travolta|Karen Lynn Gorney|Barry Miller|J...</td>\n",
       "      <td>John Badham</td>\n",
       "      <td>118</td>\n",
       "      <td>Drama|Music</td>\n",
       "      <td>192</td>\n",
       "      <td>6.3</td>\n",
       "      <td>1977</td>\n",
       "      <td>1.259223e+07</td>\n",
       "      <td>8.530813e+08</td>\n",
       "      <td>8.404891e+08</td>\n",
       "      <td>very_high</td>\n",
       "    </tr>\n",
       "    <tr>\n",
       "      <th>1922</th>\n",
       "      <td>5.293180</td>\n",
       "      <td>Black Swan</td>\n",
       "      <td>Natalie Portman|Mila Kunis|Vincent Cassel|Barb...</td>\n",
       "      <td>Darren Aronofsky</td>\n",
       "      <td>108</td>\n",
       "      <td>Drama|Mystery|Thriller</td>\n",
       "      <td>2597</td>\n",
       "      <td>7.1</td>\n",
       "      <td>2010</td>\n",
       "      <td>1.300000e+07</td>\n",
       "      <td>3.278037e+08</td>\n",
       "      <td>3.148037e+08</td>\n",
       "      <td>very_high</td>\n",
       "    </tr>\n",
       "    <tr>\n",
       "      <th>1966</th>\n",
       "      <td>1.385499</td>\n",
       "      <td>The King's Speech</td>\n",
       "      <td>Colin Firth|Geoffrey Rush|Helena Bonham Carter...</td>\n",
       "      <td>Tom Hooper</td>\n",
       "      <td>118</td>\n",
       "      <td>Drama|History</td>\n",
       "      <td>1688</td>\n",
       "      <td>7.4</td>\n",
       "      <td>2010</td>\n",
       "      <td>1.500000e+07</td>\n",
       "      <td>4.142115e+08</td>\n",
       "      <td>3.992115e+08</td>\n",
       "      <td>very_high</td>\n",
       "    </tr>\n",
       "    <tr>\n",
       "      <th>2411</th>\n",
       "      <td>3.555720</td>\n",
       "      <td>American Beauty</td>\n",
       "      <td>Kevin Spacey|Annette Bening|Thora Birch|Wes Be...</td>\n",
       "      <td>Sam Mendes</td>\n",
       "      <td>122</td>\n",
       "      <td>Drama</td>\n",
       "      <td>1756</td>\n",
       "      <td>7.7</td>\n",
       "      <td>1999</td>\n",
       "      <td>1.963579e+07</td>\n",
       "      <td>4.664111e+08</td>\n",
       "      <td>4.467753e+08</td>\n",
       "      <td>very_high</td>\n",
       "    </tr>\n",
       "    <tr>\n",
       "      <th>2420</th>\n",
       "      <td>1.825695</td>\n",
       "      <td>American Pie</td>\n",
       "      <td>Jason Biggs|Chris Klein|Thomas Ian Nicholas|Al...</td>\n",
       "      <td>Paul Weitz|Chris Weitz</td>\n",
       "      <td>95</td>\n",
       "      <td>Comedy|Romance</td>\n",
       "      <td>1405</td>\n",
       "      <td>6.4</td>\n",
       "      <td>1999</td>\n",
       "      <td>1.439958e+07</td>\n",
       "      <td>3.082597e+08</td>\n",
       "      <td>2.938601e+08</td>\n",
       "      <td>very_high</td>\n",
       "    </tr>\n",
       "  </tbody>\n",
       "</table>\n",
       "</div>"
      ],
      "text/plain": [
       "      popularity        original_title  \\\n",
       "1340    0.602862  Saturday Night Fever   \n",
       "1922    5.293180            Black Swan   \n",
       "1966    1.385499     The King's Speech   \n",
       "2411    3.555720       American Beauty   \n",
       "2420    1.825695          American Pie   \n",
       "\n",
       "                                                   cast  \\\n",
       "1340  John Travolta|Karen Lynn Gorney|Barry Miller|J...   \n",
       "1922  Natalie Portman|Mila Kunis|Vincent Cassel|Barb...   \n",
       "1966  Colin Firth|Geoffrey Rush|Helena Bonham Carter...   \n",
       "2411  Kevin Spacey|Annette Bening|Thora Birch|Wes Be...   \n",
       "2420  Jason Biggs|Chris Klein|Thomas Ian Nicholas|Al...   \n",
       "\n",
       "                    director  runtime                  genres  vote_count  \\\n",
       "1340             John Badham      118             Drama|Music         192   \n",
       "1922        Darren Aronofsky      108  Drama|Mystery|Thriller        2597   \n",
       "1966              Tom Hooper      118           Drama|History        1688   \n",
       "2411              Sam Mendes      122                   Drama        1756   \n",
       "2420  Paul Weitz|Chris Weitz       95          Comedy|Romance        1405   \n",
       "\n",
       "      vote_average  release_year    budget_adj   revenue_adj        profit  \\\n",
       "1340           6.3          1977  1.259223e+07  8.530813e+08  8.404891e+08   \n",
       "1922           7.1          2010  1.300000e+07  3.278037e+08  3.148037e+08   \n",
       "1966           7.4          2010  1.500000e+07  4.142115e+08  3.992115e+08   \n",
       "2411           7.7          1999  1.963579e+07  4.664111e+08  4.467753e+08   \n",
       "2420           6.4          1999  1.439958e+07  3.082597e+08  2.938601e+08   \n",
       "\n",
       "     revenue_level  \n",
       "1340     very_high  \n",
       "1922     very_high  \n",
       "1966     very_high  \n",
       "2411     very_high  \n",
       "2420     very_high  "
      ]
     },
     "execution_count": 38,
     "metadata": {},
     "output_type": "execute_result"
    }
   ],
   "source": [
    "# There are 39 movies in the low budget group but with very_high revenue\n",
    "# Create a table for these movies \n",
    "low_budget_very_high_revenue=low_budget[low_budget['revenue_level']=='very_high']\n",
    "low_budget_very_high_revenue.head()"
   ]
  },
  {
   "cell_type": "code",
   "execution_count": 39,
   "metadata": {},
   "outputs": [
    {
     "data": {
      "text/plain": [
       "428662726.1324031"
      ]
     },
     "execution_count": 39,
     "metadata": {},
     "output_type": "execute_result"
    }
   ],
   "source": [
    "# calculate the profit mean value in the categary \n",
    "low_budget_very_high_revenue['profit'].mean()"
   ]
  },
  {
   "cell_type": "code",
   "execution_count": 40,
   "metadata": {},
   "outputs": [
    {
     "data": {
      "text/html": [
       "<div>\n",
       "<style scoped>\n",
       "    .dataframe tbody tr th:only-of-type {\n",
       "        vertical-align: middle;\n",
       "    }\n",
       "\n",
       "    .dataframe tbody tr th {\n",
       "        vertical-align: top;\n",
       "    }\n",
       "\n",
       "    .dataframe thead th {\n",
       "        text-align: right;\n",
       "    }\n",
       "</style>\n",
       "<table border=\"1\" class=\"dataframe\">\n",
       "  <thead>\n",
       "    <tr style=\"text-align: right;\">\n",
       "      <th></th>\n",
       "      <th>popularity</th>\n",
       "      <th>original_title</th>\n",
       "      <th>cast</th>\n",
       "      <th>director</th>\n",
       "      <th>runtime</th>\n",
       "      <th>genres</th>\n",
       "      <th>vote_count</th>\n",
       "      <th>vote_average</th>\n",
       "      <th>release_year</th>\n",
       "      <th>budget_adj</th>\n",
       "      <th>revenue_adj</th>\n",
       "      <th>profit</th>\n",
       "      <th>revenue_level</th>\n",
       "    </tr>\n",
       "  </thead>\n",
       "  <tbody>\n",
       "    <tr>\n",
       "      <th>1329</th>\n",
       "      <td>12.037933</td>\n",
       "      <td>Star Wars</td>\n",
       "      <td>Mark Hamill|Harrison Ford|Carrie Fisher|Peter ...</td>\n",
       "      <td>George Lucas</td>\n",
       "      <td>121</td>\n",
       "      <td>Adventure|Action|Science Fiction</td>\n",
       "      <td>4428</td>\n",
       "      <td>7.9</td>\n",
       "      <td>1977</td>\n",
       "      <td>3.957559e+07</td>\n",
       "      <td>2.789712e+09</td>\n",
       "      <td>2.750137e+09</td>\n",
       "      <td>very_high</td>\n",
       "    </tr>\n",
       "    <tr>\n",
       "      <th>1386</th>\n",
       "      <td>9.432768</td>\n",
       "      <td>Avatar</td>\n",
       "      <td>Sam Worthington|Zoe Saldana|Sigourney Weaver|S...</td>\n",
       "      <td>James Cameron</td>\n",
       "      <td>162</td>\n",
       "      <td>Action|Adventure|Fantasy|Science Fiction</td>\n",
       "      <td>8458</td>\n",
       "      <td>7.1</td>\n",
       "      <td>2009</td>\n",
       "      <td>2.408869e+08</td>\n",
       "      <td>2.827124e+09</td>\n",
       "      <td>2.586237e+09</td>\n",
       "      <td>very_high</td>\n",
       "    </tr>\n",
       "    <tr>\n",
       "      <th>5231</th>\n",
       "      <td>4.355219</td>\n",
       "      <td>Titanic</td>\n",
       "      <td>Kate Winslet|Leonardo DiCaprio|Frances Fisher|...</td>\n",
       "      <td>James Cameron</td>\n",
       "      <td>194</td>\n",
       "      <td>Drama|Romance|Thriller</td>\n",
       "      <td>4654</td>\n",
       "      <td>7.3</td>\n",
       "      <td>1997</td>\n",
       "      <td>2.716921e+08</td>\n",
       "      <td>2.506406e+09</td>\n",
       "      <td>2.234714e+09</td>\n",
       "      <td>very_high</td>\n",
       "    </tr>\n",
       "  </tbody>\n",
       "</table>\n",
       "</div>"
      ],
      "text/plain": [
       "      popularity original_title  \\\n",
       "1329   12.037933      Star Wars   \n",
       "1386    9.432768         Avatar   \n",
       "5231    4.355219        Titanic   \n",
       "\n",
       "                                                   cast       director  \\\n",
       "1329  Mark Hamill|Harrison Ford|Carrie Fisher|Peter ...   George Lucas   \n",
       "1386  Sam Worthington|Zoe Saldana|Sigourney Weaver|S...  James Cameron   \n",
       "5231  Kate Winslet|Leonardo DiCaprio|Frances Fisher|...  James Cameron   \n",
       "\n",
       "      runtime                                    genres  vote_count  \\\n",
       "1329      121          Adventure|Action|Science Fiction        4428   \n",
       "1386      162  Action|Adventure|Fantasy|Science Fiction        8458   \n",
       "5231      194                    Drama|Romance|Thriller        4654   \n",
       "\n",
       "      vote_average  release_year    budget_adj   revenue_adj        profit  \\\n",
       "1329           7.9          1977  3.957559e+07  2.789712e+09  2.750137e+09   \n",
       "1386           7.1          2009  2.408869e+08  2.827124e+09  2.586237e+09   \n",
       "5231           7.3          1997  2.716921e+08  2.506406e+09  2.234714e+09   \n",
       "\n",
       "     revenue_level  \n",
       "1329     very_high  \n",
       "1386     very_high  \n",
       "5231     very_high  "
      ]
     },
     "execution_count": 40,
     "metadata": {},
     "output_type": "execute_result"
    }
   ],
   "source": [
    "# We can also sort profit from the whole data to see the top 39 most profitable movies.\n",
    "top_39_profit=tmdb.sort_values('profit',ascending=False).head(39)\n",
    "top_39_profit.head(3)"
   ]
  },
  {
   "cell_type": "code",
   "execution_count": 41,
   "metadata": {},
   "outputs": [
    {
     "data": {
      "text/plain": [
       "1289695311.380965"
      ]
     },
     "execution_count": 41,
     "metadata": {},
     "output_type": "execute_result"
    }
   ],
   "source": [
    "# calculate the profit mean value in the categary \n",
    "top_39_profit['profit'].mean()"
   ]
  },
  {
   "cell_type": "code",
   "execution_count": 42,
   "metadata": {},
   "outputs": [
    {
     "data": {
      "text/plain": [
       "861032585.2485619"
      ]
     },
     "execution_count": 42,
     "metadata": {},
     "output_type": "execute_result"
    }
   ],
   "source": [
    "# compare the difference in the two group\n",
    "top_39_profit['profit'].mean()-low_budget_very_high_revenue['profit'].mean()"
   ]
  },
  {
   "cell_type": "markdown",
   "metadata": {},
   "source": [
    "**Conclusion:**\n",
    ">- Even though some low_budget movies made very_high revenues (among top 10% revenue), the difference between the average for top 39 profit movies and low_budget movies are huge.\n",
    ">- This can imply that for the movies made with huge profit, they are made with huge budget too. We can not expect a movie with low budget to make extremely high profit; however it is possible to make low budget movies with moderately high profit, but the chances are not significant, there are only 39 very_high revenue movies in the low_budget table."
   ]
  },
  {
   "cell_type": "markdown",
   "metadata": {},
   "source": [
    "### Question 5. What are the top 10 rated movies? and how is their profitibility?"
   ]
  },
  {
   "cell_type": "markdown",
   "metadata": {},
   "source": [
    "Since some movies have more vote_count, we can not directly compare a movie rated 10 with only 3 counts to the movie rated 7 with 100 counts. We will use IMDB'a definition to calculated weighted average for rating score."
   ]
  },
  {
   "cell_type": "code",
   "execution_count": 43,
   "metadata": {},
   "outputs": [
    {
     "data": {
      "text/plain": [
       "1080.0"
      ]
     },
     "execution_count": 43,
     "metadata": {},
     "output_type": "execute_result"
    }
   ],
   "source": [
    "# m is the minimum votes required to be listed in the chart;\n",
    "m= tmdb['vote_count'].quantile(0.9)\n",
    "m"
   ]
  },
  {
   "cell_type": "code",
   "execution_count": 44,
   "metadata": {},
   "outputs": [
    {
     "name": "stdout",
     "output_type": "stream",
     "text": [
      "408.8737901664731\n"
     ]
    }
   ],
   "source": [
    "# C is the mean vote across the whole report\n",
    "C=tmdb['vote_count'].mean()\n",
    "print(C)"
   ]
  },
  {
   "cell_type": "code",
   "execution_count": 45,
   "metadata": {},
   "outputs": [
    {
     "data": {
      "text/plain": [
       "(517, 13)"
      ]
     },
     "execution_count": 45,
     "metadata": {},
     "output_type": "execute_result"
    }
   ],
   "source": [
    "# Create a table for top 10% highest rated movies\n",
    "q_movies = tmdb.copy().loc[tmdb['vote_count'] >= m]\n",
    "q_movies.shape"
   ]
  },
  {
   "cell_type": "code",
   "execution_count": 46,
   "metadata": {},
   "outputs": [],
   "source": [
    "def weighted_rating(x, m=m, C=C):\n",
    "    v = x['vote_count']\n",
    "    R = x['vote_average']\n",
    "    # Calculation based on the IMDB formula\n",
    "    return (v/(v+m) * R) + (m/(m+v) * C)\n",
    "\n",
    "# Define a new feature 'score' and calculate its value with `weighted_rating()`\n",
    "q_movies['score'] = q_movies.apply(weighted_rating, axis=1)"
   ]
  },
  {
   "cell_type": "code",
   "execution_count": 47,
   "metadata": {},
   "outputs": [
    {
     "data": {
      "text/html": [
       "<div>\n",
       "<style scoped>\n",
       "    .dataframe tbody tr th:only-of-type {\n",
       "        vertical-align: middle;\n",
       "    }\n",
       "\n",
       "    .dataframe tbody tr th {\n",
       "        vertical-align: top;\n",
       "    }\n",
       "\n",
       "    .dataframe thead th {\n",
       "        text-align: right;\n",
       "    }\n",
       "</style>\n",
       "<table border=\"1\" class=\"dataframe\">\n",
       "  <thead>\n",
       "    <tr style=\"text-align: right;\">\n",
       "      <th></th>\n",
       "      <th>popularity</th>\n",
       "      <th>original_title</th>\n",
       "      <th>cast</th>\n",
       "      <th>director</th>\n",
       "      <th>runtime</th>\n",
       "      <th>genres</th>\n",
       "      <th>vote_count</th>\n",
       "      <th>vote_average</th>\n",
       "      <th>release_year</th>\n",
       "      <th>budget_adj</th>\n",
       "      <th>revenue_adj</th>\n",
       "      <th>profit</th>\n",
       "      <th>revenue_level</th>\n",
       "      <th>score</th>\n",
       "    </tr>\n",
       "  </thead>\n",
       "  <tbody>\n",
       "    <tr>\n",
       "      <th>1939</th>\n",
       "      <td>2.100704</td>\n",
       "      <td>True Grit</td>\n",
       "      <td>Jeff Bridges|Hailee Steinfeld|Matt Damon|Josh ...</td>\n",
       "      <td>Ethan Coen|Joel Coen</td>\n",
       "      <td>110</td>\n",
       "      <td>Drama|Adventure|Western</td>\n",
       "      <td>1084</td>\n",
       "      <td>7.0</td>\n",
       "      <td>2010</td>\n",
       "      <td>3.800000e+07</td>\n",
       "      <td>2.522769e+08</td>\n",
       "      <td>2.142769e+08</td>\n",
       "      <td>high</td>\n",
       "      <td>207.565478</td>\n",
       "    </tr>\n",
       "    <tr>\n",
       "      <th>1408</th>\n",
       "      <td>1.895894</td>\n",
       "      <td>The Proposal</td>\n",
       "      <td>Sandra Bullock|Ryan Reynolds|Mary Steenburgen|...</td>\n",
       "      <td>Anne Fletcher</td>\n",
       "      <td>108</td>\n",
       "      <td>Comedy|Romance|Drama</td>\n",
       "      <td>1084</td>\n",
       "      <td>6.7</td>\n",
       "      <td>2009</td>\n",
       "      <td>4.065602e+07</td>\n",
       "      <td>3.225801e+08</td>\n",
       "      <td>2.819241e+08</td>\n",
       "      <td>very_high</td>\n",
       "      <td>207.415200</td>\n",
       "    </tr>\n",
       "    <tr>\n",
       "      <th>2891</th>\n",
       "      <td>2.017536</td>\n",
       "      <td>Jumper</td>\n",
       "      <td>Hayden Christensen|Jamie Bell|Samuel L. Jackso...</td>\n",
       "      <td>Doug Liman</td>\n",
       "      <td>88</td>\n",
       "      <td>Adventure|Fantasy|Science Fiction</td>\n",
       "      <td>1082</td>\n",
       "      <td>5.9</td>\n",
       "      <td>2008</td>\n",
       "      <td>8.608686e+07</td>\n",
       "      <td>2.250728e+08</td>\n",
       "      <td>1.389859e+08</td>\n",
       "      <td>high</td>\n",
       "      <td>207.200506</td>\n",
       "    </tr>\n",
       "    <tr>\n",
       "      <th>4961</th>\n",
       "      <td>2.491591</td>\n",
       "      <td>Big Fish</td>\n",
       "      <td>Ewan McGregor|Albert Finney|Billy Crudup|Jessi...</td>\n",
       "      <td>Tim Burton</td>\n",
       "      <td>125</td>\n",
       "      <td>Adventure|Fantasy|Drama</td>\n",
       "      <td>1091</td>\n",
       "      <td>7.4</td>\n",
       "      <td>2003</td>\n",
       "      <td>8.297469e+07</td>\n",
       "      <td>1.457024e+08</td>\n",
       "      <td>6.272774e+07</td>\n",
       "      <td>low</td>\n",
       "      <td>207.119803</td>\n",
       "    </tr>\n",
       "    <tr>\n",
       "      <th>37</th>\n",
       "      <td>3.339135</td>\n",
       "      <td>The Good Dinosaur</td>\n",
       "      <td>Raymond Ochoa|Jack Bright|Jeffrey Wright|Franc...</td>\n",
       "      <td>Peter Sohn</td>\n",
       "      <td>93</td>\n",
       "      <td>Adventure|Animation|Comedy|Family|Fantasy</td>\n",
       "      <td>1087</td>\n",
       "      <td>6.6</td>\n",
       "      <td>2015</td>\n",
       "      <td>1.609999e+08</td>\n",
       "      <td>3.053719e+08</td>\n",
       "      <td>1.443720e+08</td>\n",
       "      <td>very_high</td>\n",
       "      <td>207.087168</td>\n",
       "    </tr>\n",
       "    <tr>\n",
       "      <th>1936</th>\n",
       "      <td>2.162441</td>\n",
       "      <td>The Tourist</td>\n",
       "      <td>Johnny Depp|Angelina Jolie|Paul Bettany|Timoth...</td>\n",
       "      <td>Florian Henckel von Donnersmarck</td>\n",
       "      <td>103</td>\n",
       "      <td>Action|Thriller|Romance</td>\n",
       "      <td>1084</td>\n",
       "      <td>6.0</td>\n",
       "      <td>2010</td>\n",
       "      <td>1.000000e+08</td>\n",
       "      <td>2.783462e+08</td>\n",
       "      <td>1.783462e+08</td>\n",
       "      <td>high</td>\n",
       "      <td>207.064553</td>\n",
       "    </tr>\n",
       "    <tr>\n",
       "      <th>8460</th>\n",
       "      <td>2.775756</td>\n",
       "      <td>Fargo</td>\n",
       "      <td>William H. Macy|Frances McDormand|Steve Buscem...</td>\n",
       "      <td>Joel Coen</td>\n",
       "      <td>98</td>\n",
       "      <td>Crime|Drama|Thriller</td>\n",
       "      <td>1093</td>\n",
       "      <td>7.6</td>\n",
       "      <td>1996</td>\n",
       "      <td>9.731517e+06</td>\n",
       "      <td>8.426378e+07</td>\n",
       "      <td>7.453227e+07</td>\n",
       "      <td>low</td>\n",
       "      <td>207.036582</td>\n",
       "    </tr>\n",
       "    <tr>\n",
       "      <th>715</th>\n",
       "      <td>1.779861</td>\n",
       "      <td>The Monuments Men</td>\n",
       "      <td>Matt Damon|Cate Blanchett|George Clooney|Bill ...</td>\n",
       "      <td>George Clooney</td>\n",
       "      <td>118</td>\n",
       "      <td>War|Drama|History|Action</td>\n",
       "      <td>1083</td>\n",
       "      <td>5.7</td>\n",
       "      <td>2014</td>\n",
       "      <td>6.447637e+07</td>\n",
       "      <td>1.427544e+08</td>\n",
       "      <td>7.827803e+07</td>\n",
       "      <td>low</td>\n",
       "      <td>207.007302</td>\n",
       "    </tr>\n",
       "    <tr>\n",
       "      <th>770</th>\n",
       "      <td>0.967846</td>\n",
       "      <td>The Babadook</td>\n",
       "      <td>Essie Davis|Noah Wiseman|Daniel Henshall|Hayle...</td>\n",
       "      <td>Jennifer Kent</td>\n",
       "      <td>93</td>\n",
       "      <td>Drama|Thriller|Horror</td>\n",
       "      <td>1089</td>\n",
       "      <td>6.5</td>\n",
       "      <td>2014</td>\n",
       "      <td>1.842182e+06</td>\n",
       "      <td>6.149638e+06</td>\n",
       "      <td>4.307456e+06</td>\n",
       "      <td>very_low</td>\n",
       "      <td>206.852095</td>\n",
       "    </tr>\n",
       "    <tr>\n",
       "      <th>4976</th>\n",
       "      <td>1.622536</td>\n",
       "      <td>The Last Samurai</td>\n",
       "      <td>Tom Cruise|Ken Watanabe|William Atherton|Chad ...</td>\n",
       "      <td>Edward Zwick</td>\n",
       "      <td>154</td>\n",
       "      <td>Drama|Action|War|History</td>\n",
       "      <td>1093</td>\n",
       "      <td>7.1</td>\n",
       "      <td>2003</td>\n",
       "      <td>1.659494e+08</td>\n",
       "      <td>5.414205e+08</td>\n",
       "      <td>3.754711e+08</td>\n",
       "      <td>very_high</td>\n",
       "      <td>206.785087</td>\n",
       "    </tr>\n",
       "  </tbody>\n",
       "</table>\n",
       "</div>"
      ],
      "text/plain": [
       "      popularity     original_title  \\\n",
       "1939    2.100704          True Grit   \n",
       "1408    1.895894       The Proposal   \n",
       "2891    2.017536             Jumper   \n",
       "4961    2.491591           Big Fish   \n",
       "37      3.339135  The Good Dinosaur   \n",
       "1936    2.162441        The Tourist   \n",
       "8460    2.775756              Fargo   \n",
       "715     1.779861  The Monuments Men   \n",
       "770     0.967846       The Babadook   \n",
       "4976    1.622536   The Last Samurai   \n",
       "\n",
       "                                                   cast  \\\n",
       "1939  Jeff Bridges|Hailee Steinfeld|Matt Damon|Josh ...   \n",
       "1408  Sandra Bullock|Ryan Reynolds|Mary Steenburgen|...   \n",
       "2891  Hayden Christensen|Jamie Bell|Samuel L. Jackso...   \n",
       "4961  Ewan McGregor|Albert Finney|Billy Crudup|Jessi...   \n",
       "37    Raymond Ochoa|Jack Bright|Jeffrey Wright|Franc...   \n",
       "1936  Johnny Depp|Angelina Jolie|Paul Bettany|Timoth...   \n",
       "8460  William H. Macy|Frances McDormand|Steve Buscem...   \n",
       "715   Matt Damon|Cate Blanchett|George Clooney|Bill ...   \n",
       "770   Essie Davis|Noah Wiseman|Daniel Henshall|Hayle...   \n",
       "4976  Tom Cruise|Ken Watanabe|William Atherton|Chad ...   \n",
       "\n",
       "                              director  runtime  \\\n",
       "1939              Ethan Coen|Joel Coen      110   \n",
       "1408                     Anne Fletcher      108   \n",
       "2891                        Doug Liman       88   \n",
       "4961                        Tim Burton      125   \n",
       "37                          Peter Sohn       93   \n",
       "1936  Florian Henckel von Donnersmarck      103   \n",
       "8460                         Joel Coen       98   \n",
       "715                     George Clooney      118   \n",
       "770                      Jennifer Kent       93   \n",
       "4976                      Edward Zwick      154   \n",
       "\n",
       "                                         genres  vote_count  vote_average  \\\n",
       "1939                    Drama|Adventure|Western        1084           7.0   \n",
       "1408                       Comedy|Romance|Drama        1084           6.7   \n",
       "2891          Adventure|Fantasy|Science Fiction        1082           5.9   \n",
       "4961                    Adventure|Fantasy|Drama        1091           7.4   \n",
       "37    Adventure|Animation|Comedy|Family|Fantasy        1087           6.6   \n",
       "1936                    Action|Thriller|Romance        1084           6.0   \n",
       "8460                       Crime|Drama|Thriller        1093           7.6   \n",
       "715                    War|Drama|History|Action        1083           5.7   \n",
       "770                       Drama|Thriller|Horror        1089           6.5   \n",
       "4976                   Drama|Action|War|History        1093           7.1   \n",
       "\n",
       "      release_year    budget_adj   revenue_adj        profit revenue_level  \\\n",
       "1939          2010  3.800000e+07  2.522769e+08  2.142769e+08          high   \n",
       "1408          2009  4.065602e+07  3.225801e+08  2.819241e+08     very_high   \n",
       "2891          2008  8.608686e+07  2.250728e+08  1.389859e+08          high   \n",
       "4961          2003  8.297469e+07  1.457024e+08  6.272774e+07           low   \n",
       "37            2015  1.609999e+08  3.053719e+08  1.443720e+08     very_high   \n",
       "1936          2010  1.000000e+08  2.783462e+08  1.783462e+08          high   \n",
       "8460          1996  9.731517e+06  8.426378e+07  7.453227e+07           low   \n",
       "715           2014  6.447637e+07  1.427544e+08  7.827803e+07           low   \n",
       "770           2014  1.842182e+06  6.149638e+06  4.307456e+06      very_low   \n",
       "4976          2003  1.659494e+08  5.414205e+08  3.754711e+08     very_high   \n",
       "\n",
       "           score  \n",
       "1939  207.565478  \n",
       "1408  207.415200  \n",
       "2891  207.200506  \n",
       "4961  207.119803  \n",
       "37    207.087168  \n",
       "1936  207.064553  \n",
       "8460  207.036582  \n",
       "715   207.007302  \n",
       "770   206.852095  \n",
       "4976  206.785087  "
      ]
     },
     "execution_count": 47,
     "metadata": {},
     "output_type": "execute_result"
    }
   ],
   "source": [
    "# show the top 10 rated movies\n",
    "q_movies.sort_values('score',ascending=False).head(10)"
   ]
  },
  {
   "cell_type": "markdown",
   "metadata": {},
   "source": [
    ">- Above are the movies with highest rating score, but as we can see, they are not all have very_high revenue, in fact some have low revenues."
   ]
  },
  {
   "cell_type": "code",
   "execution_count": 48,
   "metadata": {},
   "outputs": [
    {
     "data": {
      "text/plain": [
       "very_high    278\n",
       "high         114\n",
       "low          110\n",
       "very_low      12\n",
       "zero           3\n",
       "Name: revenue_level, dtype: int64"
      ]
     },
     "execution_count": 48,
     "metadata": {},
     "output_type": "execute_result"
    }
   ],
   "source": [
    "q_movies['revenue_level'].value_counts()"
   ]
  },
  {
   "cell_type": "markdown",
   "metadata": {},
   "source": [
    ">- About one quarter of the highly rated movies have revel_level as low, very_low or zero.\n",
    ">- This can confirm the earlier findings that high rating does not have strong correlation with revenue"
   ]
  },
  {
   "cell_type": "markdown",
   "metadata": {},
   "source": [
    "<a id='conclusions'></a>\n",
    "## Conclusions\n",
    "\n",
    "In this project we did comprehensive analysis on the movie database with a focus on movie revenues and other properties like generes and rating score. We did initial data exploration and answered all the questions \n",
    "\n",
    "**summarize some of the featured findings:**\n",
    ">- In general, higher budget can yield higher revenues; movies made with low budget can have moderately high revenue, but successful rate is not very high.\n",
    ">-  Popular movies have more vote_count and also have higher revenues, and newer movies are more popular\n",
    ">- Although much more movies are produced over time, movies industry is more stable and annual average profit per movie is less compared with movies made 3 decades ago.\n",
    ">-  'Action', 'Adventure', 'Comedy','Drama', 'Thriller' are the most common generes for movies with very_high revenue\n",
    ">-  Movies with high rating scores do not always have high revenues."
   ]
  }
 ],
 "metadata": {
  "kernelspec": {
   "display_name": "Python 3",
   "language": "python",
   "name": "python3"
  },
  "language_info": {
   "codemirror_mode": {
    "name": "ipython",
    "version": 3
   },
   "file_extension": ".py",
   "mimetype": "text/x-python",
   "name": "python",
   "nbconvert_exporter": "python",
   "pygments_lexer": "ipython3",
   "version": "3.7.1"
  }
 },
 "nbformat": 4,
 "nbformat_minor": 2
}
